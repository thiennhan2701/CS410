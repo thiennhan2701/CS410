{
 "cells": [
  {
   "cell_type": "code",
   "execution_count": null,
   "metadata": {},
   "outputs": [],
   "source": [
    "\n",
    "'''\n",
    "download dataset from here\n",
    "https://drive.google.com/drive/folders/1iE9NMQ9Rlgj7EqOanL3mYmERy0v7IGA3?usp=sharing \n",
    "'''"
   ]
  },
  {
   "cell_type": "code",
   "execution_count": 28,
   "metadata": {},
   "outputs": [],
   "source": [
    "import numpy as np\n",
    "import torch\n",
    "import torch.nn as nn\n",
    "import torchvision\n",
    "import torchvision.models as models\n",
    "import torchvision.transforms as transforms\n",
    "from PIL import Image\n",
    "from torch.autograd import Variable\n",
    "import torchvision.transforms as transforms\n",
    "from numpy.fft import rfft2, irfft2\n",
    "from sklearn import svm\n",
    "import cv2\n",
    "from matplotlib import pyplot as plt\n",
    "import joblib\n",
    "import os\n",
    "from sklearn import svm\n",
    "from sklearn.model_selection import train_test_split\n",
    "from sklearn.utils import shuffle\n",
    "from sklearn.metrics import classification_report\n",
    "from sklearn.metrics import confusion_matrix, accuracy_score\n",
    "from skimage.feature import hog\n",
    "from sklearn.linear_model import LogisticRegression"
   ]
  },
  {
   "cell_type": "code",
   "execution_count": 3,
   "metadata": {},
   "outputs": [],
   "source": [
    "path_ = './folio/'"
   ]
  },
  {
   "cell_type": "code",
   "execution_count": 2,
   "metadata": {},
   "outputs": [
    {
     "name": "stdout",
     "output_type": "stream",
     "text": [
      "ashanti blood barbados cherry betel bitter orange caricature plant coeur demoiselle coffee croton jackfruit mulberry leaf\n"
     ]
    }
   ],
   "source": [
    "labels = [i for i in os.listdir('./folio/')]\n",
    "print(*labels)"
   ]
  },
  {
   "cell_type": "code",
   "execution_count": 38,
   "metadata": {},
   "outputs": [
    {
     "name": "stdout",
     "output_type": "stream",
     "text": [
      "199 199\n"
     ]
    }
   ],
   "source": [
    "# Step 1\n",
    "x, y = [], []\n",
    "for label in labels:\n",
    "    for file in os.listdir(path= path_ + label + '/'):\n",
    "        image = cv2.imread(path_ + label + '/' + file, 0)\n",
    "        image = cv2.resize(image, (int(image.shape[1]*0.1), int(image.shape[0]*0.1)))\n",
    "        #image = np.array(image)\n",
    "        x.append(image)\n",
    "        y.append(label)\n",
    "x, y = np.array(x), np.array(y)\n",
    "print(len(x), len(y))"
   ]
  },
  {
   "cell_type": "code",
   "execution_count": 39,
   "metadata": {},
   "outputs": [],
   "source": [
    "# Step 2\n",
    "x_train, x_test, y_train, y_test = train_test_split(x, y, test_size = 0.3, random_state = 1)"
   ]
  },
  {
   "cell_type": "code",
   "execution_count": 40,
   "metadata": {},
   "outputs": [],
   "source": [
    "# Step 3.1\n",
    "def convert_to_1D(image):\n",
    "    return np.reshape(image, image.shape[0] * image.shape[1])\n",
    "\n",
    "x_train_new = []\n",
    "\n",
    "for _ in x_train:\n",
    "    x_train_new.append(convert_to_1D(_))\n",
    "\n",
    "x_test_new = []\n",
    "\n",
    "for _ in x_test:\n",
    "    x_test_new.append(convert_to_1D(_))\n",
    "\n"
   ]
  },
  {
   "cell_type": "code",
   "execution_count": 41,
   "metadata": {},
   "outputs": [],
   "source": [
    "# Step 3.2\n",
    "\n",
    "def calculate_hog(image):\n",
    "    return hog(image, orientations=9, pixels_per_cell=(16, 16),\n",
    "    cells_per_block=(2, 2), block_norm='L2')\n",
    "\n",
    "x_train_hog = []\n",
    "\n",
    "for _ in x_train:\n",
    "    x_train_hog.append(calculate_hog(_))\n",
    "\n",
    "x_test_hog = []\n",
    "\n",
    "for _ in x_test:\n",
    "    x_test_hog.append(calculate_hog(_))\n",
    "    "
   ]
  },
  {
   "cell_type": "code",
   "execution_count": 42,
   "metadata": {},
   "outputs": [],
   "source": [
    "# Step 4\n",
    "clf = LogisticRegression(max_iter=10000, random_state=1, n_jobs=2)\n",
    "clf_hog = LogisticRegression(max_iter=10000, random_state=1, n_jobs=2)"
   ]
  },
  {
   "cell_type": "code",
   "execution_count": 43,
   "metadata": {},
   "outputs": [],
   "source": [
    "# Step 5\n",
    "#-------------------------------------------------------------------#\n",
    "clf.fit(x_train_new, y_train)\n",
    "clf_hog.fit(x_train_hog, y_train)\n",
    "#-------------------------------------------------------------------#\n",
    "y_pred = clf.predict(x_test_new)\n",
    "y_pred_hog = clf_hog.predict(x_test_hog)\n",
    "#-------------------------------------------------------------------#"
   ]
  },
  {
   "cell_type": "code",
   "execution_count": 44,
   "metadata": {},
   "outputs": [
    {
     "name": "stdout",
     "output_type": "stream",
     "text": [
      "Accuracy 0.85\n",
      "                  precision    recall  f1-score   support\n",
      "\n",
      "   ashanti blood       0.75      1.00      0.86         6\n",
      " barbados cherry       1.00      0.78      0.88         9\n",
      "           betel       0.88      0.88      0.88         8\n",
      "   bitter orange       1.00      0.67      0.80         3\n",
      "caricature plant       0.83      1.00      0.91         5\n",
      "coeur demoiselle       0.86      0.86      0.86         7\n",
      "          coffee       0.50      0.60      0.55         5\n",
      "          croton       1.00      1.00      1.00         4\n",
      "       jackfruit       0.88      0.88      0.88         8\n",
      "   mulberry leaf       1.00      0.80      0.89         5\n",
      "\n",
      "        accuracy                           0.85        60\n",
      "       macro avg       0.87      0.85      0.85        60\n",
      "    weighted avg       0.87      0.85      0.85        60\n",
      "\n"
     ]
    }
   ],
   "source": [
    "print('Accuracy', accuracy_score(y_test, y_pred))\n",
    "print(classification_report(y_test, y_pred))"
   ]
  },
  {
   "cell_type": "code",
   "execution_count": 45,
   "metadata": {},
   "outputs": [
    {
     "name": "stdout",
     "output_type": "stream",
     "text": [
      "HOG Accuracy 0.9\n",
      "                  precision    recall  f1-score   support\n",
      "\n",
      "   ashanti blood       0.75      1.00      0.86         6\n",
      " barbados cherry       1.00      0.78      0.88         9\n",
      "           betel       1.00      1.00      1.00         8\n",
      "   bitter orange       1.00      0.67      0.80         3\n",
      "caricature plant       0.83      1.00      0.91         5\n",
      "coeur demoiselle       0.88      1.00      0.93         7\n",
      "          coffee       0.75      0.60      0.67         5\n",
      "          croton       1.00      1.00      1.00         4\n",
      "       jackfruit       0.88      0.88      0.88         8\n",
      "   mulberry leaf       1.00      1.00      1.00         5\n",
      "\n",
      "        accuracy                           0.90        60\n",
      "       macro avg       0.91      0.89      0.89        60\n",
      "    weighted avg       0.91      0.90      0.90        60\n",
      "\n"
     ]
    }
   ],
   "source": [
    "print('HOG Accuracy', accuracy_score(y_test, y_pred_hog))\n",
    "print(classification_report(y_test, y_pred_hog))"
   ]
  }
 ],
 "metadata": {
  "interpreter": {
   "hash": "8a609e55efdd99db2aa0284b17df7643708ba6407f205c1855df7db4ed0251d8"
  },
  "kernelspec": {
   "display_name": "Python 3.8.10 64-bit ('snowflakes': conda)",
   "language": "python",
   "name": "python3"
  },
  "language_info": {
   "codemirror_mode": {
    "name": "ipython",
    "version": 3
   },
   "file_extension": ".py",
   "mimetype": "text/x-python",
   "name": "python",
   "nbconvert_exporter": "python",
   "pygments_lexer": "ipython3",
   "version": "3.8.10"
  },
  "orig_nbformat": 4
 },
 "nbformat": 4,
 "nbformat_minor": 2
}
