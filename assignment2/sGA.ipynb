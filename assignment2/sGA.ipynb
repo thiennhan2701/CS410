{
  "cells": [
    {
      "cell_type": "markdown",
      "metadata": {
        "id": "uvjoywTwnI0U"
      },
      "source": [
        "\n",
        "\n",
        "# Hàm Basic"
      ]
    },
    {
      "cell_type": "code",
      "execution_count": 35,
      "metadata": {
        "id": "MIG2rFDH8RNU"
      },
      "outputs": [],
      "source": [
        "import numpy as np\n",
        "import pandas as pd"
      ]
    },
    {
      "cell_type": "code",
      "execution_count": 36,
      "metadata": {
        "id": "dvFZDEez8VZr"
      },
      "outputs": [],
      "source": [
        "n_times_success = 10"
      ]
    },
    {
      "cell_type": "code",
      "execution_count": 37,
      "metadata": {
        "id": "VhEaVuq28YYI"
      },
      "outputs": [],
      "source": [
        "def initialize_population( num_individuals, num_variables):\n",
        "    pop = np.random.randint(2, size=(int(num_individuals), int(num_variables)))\n",
        "    return pop"
      ]
    },
    {
      "cell_type": "code",
      "execution_count": 38,
      "metadata": {
        "id": "TS3tH7gT8dol"
      },
      "outputs": [],
      "source": [
        "def better_fitness( fitness_1, fitness_2, maximization=True ):\n",
        "    if maximization:\n",
        "        if fitness_1 > fitness_2:\n",
        "            return True\n",
        "    else:\n",
        "        if fitness_1 < fitness_2:\n",
        "            return True\n",
        "        \n",
        "    return False"
      ]
    },
    {
      "cell_type": "code",
      "execution_count": 39,
      "metadata": {
        "id": "iEmUWDFM8hg8"
      },
      "outputs": [],
      "source": [
        "def tournament_selection( pop, pop_fitness, selection_size, tournament_size):\n",
        "    num_individuals = len(pop)\n",
        "    indices = np.arange(num_individuals)\n",
        "    selected_indices = []\n",
        "    \n",
        "    while len(selected_indices) < selection_size:\n",
        "        np.random.shuffle(indices)\n",
        "        for i in range(0, num_individuals, tournament_size):\n",
        "          best_idx = i\n",
        "          for idx in range(1, tournament_size):\n",
        "            if better_fitness(pop_fitness[indices[i + idx]], pop_fitness[indices[best_idx]]):\n",
        "              best_idx = i + idx\n",
        "          selected_indices.append(indices[best_idx])\n",
        "        np.array(selected_indices)\n",
        "        \n",
        "    return selected_indices"
      ]
    },
    {
      "cell_type": "code",
      "execution_count": 40,
      "metadata": {
        "id": "D1ytOyV09C6i"
      },
      "outputs": [],
      "source": [
        "def variation_UX( pop ):\n",
        "    num_individuals = len(pop)\n",
        "    num_parameters = len(pop[0])\n",
        "    indices = np.arange(num_individuals)\n",
        "\n",
        "    np.random.shuffle(indices)\n",
        "    offspring = []\n",
        "    \n",
        "    for i in range(0, num_individuals, 2):\n",
        "        idx1 = indices[i]\n",
        "        idx2 = indices[i+1]\n",
        "        offspring1 = list(pop[idx1])\n",
        "        offspring2 = list(pop[idx2])\n",
        "        \n",
        "        for idx in range(0, num_parameters):\n",
        "          r = np.random.rand()\n",
        "          if r < 0.5: \n",
        "            temp = offspring2[idx]\n",
        "            offspring2[idx] = offspring1[idx]\n",
        "            offspring1[idx] = temp\n",
        "\n",
        "            \n",
        "\n",
        "        offspring.append(offspring1)\n",
        "        offspring.append(offspring2)\n",
        "\n",
        "\n",
        "    \n",
        "    offspring = np.array(offspring)\n",
        "    return offspring"
      ]
    },
    {
      "cell_type": "code",
      "execution_count": 41,
      "metadata": {
        "id": "JdxrwEpA9HL8"
      },
      "outputs": [],
      "source": [
        "def variation_OneX( pop ):\n",
        "\n",
        "    num_individuals = len(pop)\n",
        "    num_parameters = len(pop[0])\n",
        "    indices = np.arange(num_individuals)\n",
        "\n",
        "    np.random.shuffle(indices)\n",
        "    offspring = []\n",
        "    \n",
        "    for i in range(0, num_individuals, 2):\n",
        "        idx1 = indices[i]\n",
        "        idx2 = indices[i+1]\n",
        "        offspring1 = list(pop[idx1])\n",
        "        offspring2 = list(pop[idx2])\n",
        "        \n",
        "       \n",
        "        j = np.random.randint(1, num_parameters-1)\n",
        "        temp = offspring2[j::]\n",
        "        offspring2[j::] = offspring1[j::]\n",
        "        offspring1[j::] = temp\n",
        "\n",
        "            \n",
        "\n",
        "        offspring.append(offspring1)\n",
        "        offspring.append(offspring2)\n",
        "\n",
        "    \n",
        "    offspring = np.array(offspring)\n",
        "    return offspring"
      ]
    },
    {
      "cell_type": "code",
      "execution_count": 42,
      "metadata": {
        "id": "Cj3aWMaQ9NyY"
      },
      "outputs": [],
      "source": [
        "def check_convergence(pop_fitness):\n",
        "    if np.any(pop_fitness != pop_fitness[0]): \n",
        "      return False\n",
        "    return True\n"
      ]
    },
    {
      "cell_type": "markdown",
      "metadata": {
        "id": "enPYFbBc9VJZ"
      },
      "source": [
        "\n",
        "# OneMax"
      ]
    },
    {
      "cell_type": "code",
      "execution_count": null,
      "metadata": {
        "id": "gZNtfQtG9bCi"
      },
      "outputs": [],
      "source": [
        "def onemax( ind ):\n",
        "    return np.sum(ind)  "
      ]
    },
    {
      "cell_type": "code",
      "execution_count": null,
      "metadata": {
        "id": "zxXdlm7z9jQZ"
      },
      "outputs": [],
      "source": [
        "def evaluate_population( pop ):\n",
        "    values = np.array([onemax(ind) for ind in pop])\n",
        "    return values"
      ]
    },
    {
      "cell_type": "code",
      "execution_count": null,
      "metadata": {
        "id": "3mifCKvI9rCA"
      },
      "outputs": [],
      "source": [
        "def check_onemax(pop_fitness, num_variables):\n",
        "  for fitness in pop_fitness:\n",
        "    if fitness != num_variables:\n",
        "      return False\n",
        "  return True"
      ]
    },
    {
      "cell_type": "code",
      "execution_count": null,
      "metadata": {
        "id": "w2MJ3fTY9wo1"
      },
      "outputs": [],
      "source": [
        "def popop_OneMax(num_individuals, num_parameters, key):\n",
        "\n",
        "    pop = initialize_population(num_individuals, num_parameters)\n",
        "    pop_fitness = evaluate_population(pop)\n",
        "    #print(\"#Gen 0:\")\n",
        "    #print(pop_fitness)\n",
        "    #first_pop_fitness = pop_fitness\n",
        "    \n",
        "    selection_size = len(pop)\n",
        "    tournament_size = 4\n",
        "\n",
        "    time_called = 0\n",
        "\n",
        "    while not check_convergence(pop) and not check_onemax(pop_fitness, num_parameters):\n",
        "\n",
        "        \n",
        "        offspring = [] \n",
        "        if key == 1: offspring = variation_OneX(pop) # lai 1 diem\n",
        "        else: offspring = variation_UX(pop) # lai dong nhat\n",
        "        offspring_fitness = evaluate_population(offspring)\n",
        "        time_called += len(offspring)\n",
        "        \n",
        "        pool = np.vstack((pop,offspring))\n",
        "        pool_fitness = np.hstack((pop_fitness, offspring_fitness))\n",
        "\n",
        "        pool_indices = tournament_selection(pool, pool_fitness, selection_size, tournament_size)\n",
        "\n",
        "\n",
        "        pop = pool[pool_indices, :]\n",
        "        pop_fitness = pool_fitness[pool_indices]\n",
        "        #print(\"#Gen {}:\".format(i+1))\n",
        "        #print(pop_fitness)\n",
        "\n",
        "    #print(\"#Result:\")\n",
        "    #print(pop)\n",
        "    #print(pop_fitness)\n",
        "    return pop, pop_fitness, time_called"
      ]
    },
    {
      "cell_type": "code",
      "execution_count": null,
      "metadata": {
        "id": "0sWX1AzB96ld"
      },
      "outputs": [],
      "source": [
        "def isSuccess_OneMax(num_individuals, num_variables, seed, random_seed, key):\n",
        "  average_call = 0\n",
        "  for i in range(10):\n",
        "    seed_ = 1\n",
        "    if key == 1:\n",
        "      seed_ = random_seed[i]\n",
        "    else: \n",
        "      seed_ = np.random.randint(seed, seed + 10)\n",
        "      random_seed.append(seed)\n",
        "\n",
        "    np.random.seed(seed_)\n",
        "    #pop, pop_fitness, time_called = popop_OneMax(num_individuals, num_variables,  0) # lai dong nhat\n",
        "    pop, pop_fitness, time_called = popop_OneMax(num_individuals, num_variables, 1) # lai mot diem\n",
        "    average_call += time_called\n",
        "    if  not check_onemax(pop_fitness, num_variables):\n",
        "      return -1 \n",
        "  return average_call/10\n"
      ]
    },
    {
      "cell_type": "code",
      "execution_count": null,
      "metadata": {
        "id": "yXP_6IPQ-Fii"
      },
      "outputs": [],
      "source": [
        "def find_upper_OneMax(num_variables, seed, random_seed):\n",
        "  num_individuals = 4\n",
        "  average_call = isSuccess_OneMax(num_individuals, num_variables, seed, random_seed, 0)\n",
        "  while average_call == -1:\n",
        "    num_individuals *= 2\n",
        "    average_call = isSuccess_OneMax(num_individuals, num_variables, seed, random_seed, 0)\n",
        "    if num_individuals > 8192: \n",
        "      return [-1, 0]\n",
        "\n",
        "  print(f'Cần {num_individuals} cá thể để chạy POPOP thành công 10 lần cho {num_variables} biến')\n",
        "  return [num_individuals, average_call]"
      ]
    },
    {
      "cell_type": "code",
      "execution_count": null,
      "metadata": {
        "id": "U5y3m9_t-I8u"
      },
      "outputs": [],
      "source": [
        "def eval_mrps_OneMax(num_individuals, size, random_seed, seed):\n",
        "  n_upper, n_lower = num_individuals, num_individuals//2\n",
        "  average_call = 0\n",
        "  while (n_upper - n_lower) / n_upper > 0.1:\n",
        "    n = (n_upper + n_lower) // 2\n",
        "    if n % 2 != 0: n += 1\n",
        "    x = isSuccess_OneMax(n, size, seed, random_seed, 1)\n",
        "    if x != -1:\n",
        "      n_upper = n\n",
        "      average_call = x\n",
        "    else:\n",
        "      n_lower = n\n",
        "    if n_upper - n_lower <= 2: break\n",
        "\n",
        "  print(f'{n_lower} <= x <= {n_upper}')\n",
        "  return n_upper, average_call"
      ]
    },
    {
      "cell_type": "code",
      "execution_count": null,
      "metadata": {
        "colab": {
          "base_uri": "https://localhost:8080/"
        },
        "id": "U3yN9PfU-LGo",
        "outputId": "36a48fd4-b8a3-4b69-e95c-7cc8c1e0f3f3"
      },
      "outputs": [
        {
          "name": "stdout",
          "output_type": "stream",
          "text": [
            "Lần 1\n",
            "---------------\n",
            "Cần 16 cá thể để chạy POPOP thành công 10 lần cho 10 biến\n",
            "12 <= x <= 14\n",
            "Cần 64 cá thể để chạy POPOP thành công 10 lần cho 20 biến\n",
            "32 <= x <= 34\n",
            "Cần 256 cá thể để chạy POPOP thành công 10 lần cho 40 biến\n",
            "192 <= x <= 208\n",
            "Cần 512 cá thể để chạy POPOP thành công 10 lần cho 80 biến\n",
            "352 <= x <= 384\n",
            "Cần 4096 cá thể để chạy POPOP thành công 10 lần cho 160 biến\n",
            "2048 <= x <= 2176\n",
            "[98.0, 408.0, 3328.0, 10368.0, 84864.0]\n",
            "---------------\n",
            "Lần 2\n",
            "---------------\n",
            "Cần 32 cá thể để chạy POPOP thành công 10 lần cho 10 biến\n",
            "16 <= x <= 18\n",
            "Cần 64 cá thể để chạy POPOP thành công 10 lần cho 20 biến\n",
            "32 <= x <= 34\n",
            "Cần 128 cá thể để chạy POPOP thành công 10 lần cho 40 biến\n",
            "88 <= x <= 96\n",
            "Cần 512 cá thể để chạy POPOP thành công 10 lần cho 80 biến\n",
            "416 <= x <= 448\n",
            "Cần 2048 cá thể để chạy POPOP thành công 10 lần cho 160 biến\n",
            "1536 <= x <= 1664\n",
            "[90.0, 272.0, 1728.0, 11648.0, 68224.0]\n",
            "---------------\n",
            "Lần 3\n",
            "---------------\n",
            "Cần 8 cá thể để chạy POPOP thành công 10 lần cho 10 biến\n",
            "6 <= x <= 8\n",
            "Cần 32 cá thể để chạy POPOP thành công 10 lần cho 20 biến\n",
            "22 <= x <= 24\n",
            "Cần 256 cá thể để chạy POPOP thành công 10 lần cho 40 biến\n",
            "192 <= x <= 208\n",
            "Cần 512 cá thể để chạy POPOP thành công 10 lần cho 80 biến\n",
            "320 <= x <= 352\n",
            "Cần 2048 cá thể để chạy POPOP thành công 10 lần cho 160 biến\n",
            "1408 <= x <= 1536\n",
            "[75.2, 456.0, 3536.0, 8800.0, 62976.0]\n",
            "---------------\n",
            "Lần 4\n",
            "---------------\n",
            "Cần 16 cá thể để chạy POPOP thành công 10 lần cho 10 biến\n",
            "12 <= x <= 14\n",
            "Cần 64 cá thể để chạy POPOP thành công 10 lần cho 20 biến\n",
            "52 <= x <= 56\n",
            "Cần 256 cá thể để chạy POPOP thành công 10 lần cho 40 biến\n",
            "160 <= x <= 176\n",
            "Cần 512 cá thể để chạy POPOP thành công 10 lần cho 80 biến\n",
            "272 <= x <= 288\n",
            "Cần 4096 cá thể để chạy POPOP thành công 10 lần cho 160 biến\n",
            "2048 <= x <= 2176\n",
            "[126.0, 728.0, 2992.0, 8064.0, 93568.0]\n",
            "---------------\n",
            "Lần 5\n",
            "---------------\n",
            "Cần 16 cá thể để chạy POPOP thành công 10 lần cho 10 biến\n",
            "8 <= x <= 10\n",
            "Cần 64 cá thể để chạy POPOP thành công 10 lần cho 20 biến\n",
            "32 <= x <= 34\n",
            "Cần 256 cá thể để chạy POPOP thành công 10 lần cho 40 biến\n",
            "128 <= x <= 136\n",
            "Cần 1024 cá thể để chạy POPOP thành công 10 lần cho 80 biến\n",
            "512 <= x <= 544\n",
            "Cần 4096 cá thể để chạy POPOP thành công 10 lần cho 160 biến\n",
            "2048 <= x <= 2176\n",
            "[70.0, 340.0, 2312.0, 14688.0, 80512.0]\n",
            "---------------\n",
            "Lần 6\n",
            "---------------\n",
            "Cần 16 cá thể để chạy POPOP thành công 10 lần cho 10 biến\n",
            "10 <= x <= 12\n",
            "Cần 64 cá thể để chạy POPOP thành công 10 lần cho 20 biến\n",
            "44 <= x <= 48\n",
            "Cần 128 cá thể để chạy POPOP thành công 10 lần cho 40 biến\n",
            "104 <= x <= 112\n",
            "Cần 512 cá thể để chạy POPOP thành công 10 lần cho 80 biến\n",
            "384 <= x <= 416\n",
            "Cần 2048 cá thể để chạy POPOP thành công 10 lần cho 160 biến\n",
            "1408 <= x <= 1536\n",
            "[84.0, 576.0, 1904.0, 11648.0, 66048.0]\n",
            "---------------\n",
            "Lần 7\n",
            "---------------\n",
            "Cần 32 cá thể để chạy POPOP thành công 10 lần cho 10 biến\n",
            "20 <= x <= 22\n",
            "Cần 64 cá thể để chạy POPOP thành công 10 lần cho 20 biến\n",
            "40 <= x <= 44\n",
            "Cần 128 cá thể để chạy POPOP thành công 10 lần cho 40 biến\n",
            "88 <= x <= 96\n",
            "Cần 1024 cá thể để chạy POPOP thành công 10 lần cho 80 biến\n",
            "512 <= x <= 544\n",
            "Cần 4096 cá thể để chạy POPOP thành công 10 lần cho 160 biến\n",
            "2048 <= x <= 2176\n",
            "[132.0, 484.0, 2016.0, 13600.0, 100096.0]\n",
            "---------------\n",
            "Lần 8\n",
            "---------------\n",
            "Cần 32 cá thể để chạy POPOP thành công 10 lần cho 10 biến\n",
            "20 <= x <= 22\n",
            "Cần 64 cá thể để chạy POPOP thành công 10 lần cho 20 biến\n",
            "48 <= x <= 52\n",
            "Cần 256 cá thể để chạy POPOP thành công 10 lần cho 40 biến\n",
            "208 <= x <= 224\n",
            "Cần 1024 cá thể để chạy POPOP thành công 10 lần cho 80 biến\n",
            "512 <= x <= 544\n",
            "Cần 4096 cá thể để chạy POPOP thành công 10 lần cho 160 biến\n",
            "2304 <= x <= 2560\n",
            "[176.0, 468.0, 3360.0, 15776.0, 104960.0]\n",
            "---------------\n",
            "Lần 9\n",
            "---------------\n",
            "Cần 32 cá thể để chạy POPOP thành công 10 lần cho 10 biến\n",
            "16 <= x <= 18\n",
            "Cần 64 cá thể để chạy POPOP thành công 10 lần cho 20 biến\n",
            "32 <= x <= 34\n",
            "Cần 256 cá thể để chạy POPOP thành công 10 lần cho 40 biến\n",
            "128 <= x <= 136\n",
            "Cần 512 cá thể để chạy POPOP thành công 10 lần cho 80 biến\n",
            "288 <= x <= 320\n",
            "Cần 4096 cá thể để chạy POPOP thành công 10 lần cho 160 biến\n",
            "2176 <= x <= 2304\n",
            "[144.0, 374.0, 2176.0, 8320.0, 78336.0]\n",
            "---------------\n",
            "Lần 10\n",
            "---------------\n",
            "Cần 32 cá thể để chạy POPOP thành công 10 lần cho 10 biến\n",
            "16 <= x <= 18\n",
            "Cần 64 cá thể để chạy POPOP thành công 10 lần cho 20 biến\n",
            "34 <= x <= 36\n",
            "Cần 256 cá thể để chạy POPOP thành công 10 lần cho 40 biến\n",
            "128 <= x <= 136\n",
            "Cần 512 cá thể để chạy POPOP thành công 10 lần cho 80 biến\n",
            "272 <= x <= 288\n",
            "Cần 4096 cá thể để chạy POPOP thành công 10 lần cho 160 biến\n",
            "2560 <= x <= 2816\n",
            "[108.0, 324.0, 2448.0, 8064.0, 109824.0]\n",
            "---------------\n",
            "MRPS   Ave_call\n",
            "14    98.0\n",
            "34    408.0\n",
            "208    3328.0\n",
            "384    10368.0\n",
            "2176    84864.0\n",
            "18    90.0\n",
            "34    272.0\n",
            "96    1728.0\n",
            "448    11648.0\n",
            "1664    68224.0\n",
            "8    75.2\n",
            "24    456.0\n",
            "208    3536.0\n",
            "352    8800.0\n",
            "1536    62976.0\n",
            "14    126.0\n",
            "56    728.0\n",
            "176    2992.0\n",
            "288    8064.0\n",
            "2176    93568.0\n",
            "10    70.0\n",
            "34    340.0\n",
            "136    2312.0\n",
            "544    14688.0\n",
            "2176    80512.0\n",
            "12    84.0\n",
            "48    576.0\n",
            "112    1904.0\n",
            "416    11648.0\n",
            "1536    66048.0\n",
            "22    132.0\n",
            "44    484.0\n",
            "96    2016.0\n",
            "544    13600.0\n",
            "2176    100096.0\n",
            "22    176.0\n",
            "52    468.0\n",
            "224    3360.0\n",
            "544    15776.0\n",
            "2560    104960.0\n",
            "18    144.0\n",
            "34    374.0\n",
            "136    2176.0\n",
            "320    8320.0\n",
            "2304    78336.0\n",
            "18    108.0\n",
            "36    324.0\n",
            "136    2448.0\n",
            "288    8064.0\n",
            "2816    109824.0\n"
          ]
        }
      ],
      "source": [
        "problem_size = [10, 20, 40, 80, 160]\n",
        "MRPS = []\n",
        "data_random_seed = []\n",
        "ave_eval = []\n",
        "for i in range(10):\n",
        "  seed = 19520197 + i*10\n",
        "  print(f'Lần {i + 1}')\n",
        "  print(\"-\"*15)\n",
        "  for size in problem_size:\n",
        "    random_seed = []\n",
        "    x = find_upper_OneMax(size, seed, random_seed)\n",
        "    num_individuals, average_call = x[0], x[1]\n",
        "    if num_individuals == -1: \n",
        "      n_times_success -= 1\n",
        "      break\n",
        "    mrps, average_eval = eval_mrps_OneMax(int(num_individuals), size, random_seed, seed)\n",
        "    #if mrps != -1:\n",
        "    if mrps != 0 and mrps != -1 and mrps != num_individuals:\n",
        "      MRPS.append(mrps)\n",
        "      ave_eval.append(average_eval)\n",
        "    else:\n",
        "      MRPS.append(num_individuals)\n",
        "      ave_eval.append(average_call)\n",
        "  print(ave_eval[5*i: 5*i + 5])\n",
        "    \n",
        "  print(\"-\"*15)\n",
        "print(\"MRPS   Ave_call\")\n",
        "for i in range(len(MRPS)):\n",
        "  print(MRPS[i],\"  \", ave_eval[i])"
      ]
    },
    {
      "cell_type": "markdown",
      "metadata": {
        "id": "dJXQMqCwFPo4"
      },
      "source": [
        "# Tính (Mean của (MRPS và Evaluations) ) cho OneX_OneMax"
      ]
    },
    {
      "cell_type": "code",
      "execution_count": null,
      "metadata": {
        "id": "pM3Br61bI96Z"
      },
      "outputs": [],
      "source": [
        "seed_arr = [19520197 +i*10 for i in range(10)]"
      ]
    },
    {
      "cell_type": "code",
      "execution_count": null,
      "metadata": {
        "id": "xl9nO-Fb-lUV"
      },
      "outputs": [],
      "source": [
        "data_MRPS_OneX_OneMax = MRPS\n",
        "data_averageCall_OneX_OneMax = ave_eval"
      ]
    },
    {
      "cell_type": "code",
      "execution_count": null,
      "metadata": {
        "colab": {
          "base_uri": "https://localhost:8080/"
        },
        "id": "mXeNUkTN-rnO",
        "outputId": "27bf5e8a-dff2-4cad-9392-0dd2120e0576"
      },
      "outputs": [
        {
          "name": "stdout",
          "output_type": "stream",
          "text": [
            "OneX OneMax\n",
            "MRPS   Ave_call\n",
            "14    98.0\n",
            "34    408.0\n",
            "208    3328.0\n",
            "384    10368.0\n",
            "2176    84864.0\n",
            "18    90.0\n",
            "34    272.0\n",
            "96    1728.0\n",
            "448    11648.0\n",
            "1664    68224.0\n",
            "8    75.2\n",
            "24    456.0\n",
            "208    3536.0\n",
            "352    8800.0\n",
            "1536    62976.0\n",
            "14    126.0\n",
            "56    728.0\n",
            "176    2992.0\n",
            "288    8064.0\n",
            "2176    93568.0\n",
            "10    70.0\n",
            "34    340.0\n",
            "136    2312.0\n",
            "544    14688.0\n",
            "2176    80512.0\n",
            "12    84.0\n",
            "48    576.0\n",
            "112    1904.0\n",
            "416    11648.0\n",
            "1536    66048.0\n",
            "22    132.0\n",
            "44    484.0\n",
            "96    2016.0\n",
            "544    13600.0\n",
            "2176    100096.0\n",
            "22    176.0\n",
            "52    468.0\n",
            "224    3360.0\n",
            "544    15776.0\n",
            "2560    104960.0\n",
            "18    144.0\n",
            "34    374.0\n",
            "136    2176.0\n",
            "320    8320.0\n",
            "2304    78336.0\n",
            "18    108.0\n",
            "36    324.0\n",
            "136    2448.0\n",
            "288    8064.0\n",
            "2816    109824.0\n"
          ]
        }
      ],
      "source": [
        "print(\"OneX OneMax\")\n",
        "print(\"MRPS   Ave_call\")\n",
        "for i in range(len(data_MRPS_OneX_OneMax)):\n",
        "  print(data_MRPS_OneX_OneMax[i],\"  \", data_averageCall_OneX_OneMax[i])"
      ]
    },
    {
      "cell_type": "code",
      "execution_count": null,
      "metadata": {
        "id": "bRsMHVhQGzap"
      },
      "outputs": [],
      "source": [
        "MRPS_OneX_OneMax = np.array(data_MRPS_OneX_OneMax).reshape((-1, 5))\n",
        "Eval_OneX_OneMax = np.array(data_averageCall_OneX_OneMax).reshape((-1, 5))\n",
        "Mean_MRPS_OneX_OneMax = np.average(MRPS_OneX_OneMax, axis = 0)\n",
        "Mean_Eval_OneX_OneMax = np.average(Eval_OneX_OneMax, axis = 0)"
      ]
    },
    {
      "cell_type": "code",
      "execution_count": null,
      "metadata": {
        "colab": {
          "base_uri": "https://localhost:8080/"
        },
        "id": "JCmQq0S1GzsO",
        "outputId": "54a51e96-05fb-4290-a3e1-35be5fba9442"
      },
      "outputs": [
        {
          "name": "stdout",
          "output_type": "stream",
          "text": [
            "[[  14   34  208  384 2176]\n",
            " [  18   34   96  448 1664]\n",
            " [   8   24  208  352 1536]\n",
            " [  14   56  176  288 2176]\n",
            " [  10   34  136  544 2176]\n",
            " [  12   48  112  416 1536]\n",
            " [  22   44   96  544 2176]\n",
            " [  22   52  224  544 2560]\n",
            " [  18   34  136  320 2304]\n",
            " [  18   36  136  288 2816]]\n",
            "[  15.6   39.6  152.8  412.8 2112. ]\n",
            "[[9.80000e+01 4.08000e+02 3.32800e+03 1.03680e+04 8.48640e+04]\n",
            " [9.00000e+01 2.72000e+02 1.72800e+03 1.16480e+04 6.82240e+04]\n",
            " [7.52000e+01 4.56000e+02 3.53600e+03 8.80000e+03 6.29760e+04]\n",
            " [1.26000e+02 7.28000e+02 2.99200e+03 8.06400e+03 9.35680e+04]\n",
            " [7.00000e+01 3.40000e+02 2.31200e+03 1.46880e+04 8.05120e+04]\n",
            " [8.40000e+01 5.76000e+02 1.90400e+03 1.16480e+04 6.60480e+04]\n",
            " [1.32000e+02 4.84000e+02 2.01600e+03 1.36000e+04 1.00096e+05]\n",
            " [1.76000e+02 4.68000e+02 3.36000e+03 1.57760e+04 1.04960e+05]\n",
            " [1.44000e+02 3.74000e+02 2.17600e+03 8.32000e+03 7.83360e+04]\n",
            " [1.08000e+02 3.24000e+02 2.44800e+03 8.06400e+03 1.09824e+05]]\n",
            "[  110.32   443.    2580.   11097.6  84940.8 ]\n"
          ]
        }
      ],
      "source": [
        "print(MRPS_OneX_OneMax)\n",
        "print(Mean_MRPS_OneX_OneMax)\n",
        "print(Eval_OneX_OneMax)\n",
        "print(Mean_Eval_OneX_OneMax)"
      ]
    },
    {
      "cell_type": "code",
      "execution_count": null,
      "metadata": {
        "colab": {
          "base_uri": "https://localhost:8080/"
        },
        "id": "AkBj21yxIAFr",
        "outputId": "eabf72bf-786a-40dd-9a5a-75da78ac9ec1"
      },
      "outputs": [
        {
          "name": "stdout",
          "output_type": "stream",
          "text": [
            "[  4.54312668   6.6873014   22.72971623  34.85283346 100.43107089]\n",
            "[  32.07181941   89.82928253  316.42629474  959.02350336 3957.69500593]\n"
          ]
        }
      ],
      "source": [
        "std_MRPS_OneX_OneMax = np.subtract(MRPS_OneX_OneMax, Mean_MRPS_OneX_OneMax)\n",
        "std_MRPS_OneX_OneMax = np.square(std_MRPS_OneX_OneMax)\n",
        "std_MRPS_OneX_OneMax = np.sum(std_MRPS_OneX_OneMax, axis = 0)\n",
        "std_MRPS_OneX_OneMax = np.divide(std_MRPS_OneX_OneMax, problem_size)\n",
        "std_MRPS_OneX_OneMax = np.sqrt(std_MRPS_OneX_OneMax)\n",
        "print(std_MRPS_OneX_OneMax)\n",
        "\n",
        "std_Eval_OneX_OneMax = np.subtract(Eval_OneX_OneMax, Mean_Eval_OneX_OneMax)\n",
        "std_Eval_OneX_OneMax = np.square(std_Eval_OneX_OneMax)\n",
        "std_Eval_OneX_OneMax = np.sum(std_Eval_OneX_OneMax, axis = 0)\n",
        "std_Eval_OneX_OneMax = np.divide(std_Eval_OneX_OneMax, problem_size)\n",
        "std_Eval_OneX_OneMax = np.sqrt(std_Eval_OneX_OneMax)\n",
        "print(std_Eval_OneX_OneMax)"
      ]
    },
    {
      "cell_type": "code",
      "execution_count": null,
      "metadata": {
        "id": "IRWSJhQVJNWP"
      },
      "outputs": [],
      "source": [
        "OneX_OneMax_data = np.hstack((np.array(seed_arr).reshape(-1, 1), MRPS_OneX_OneMax, Eval_OneX_OneMax))\n",
        "OneX_OneMax_data = np.vstack((OneX_OneMax_data, np.hstack(([\"Mean\"], Mean_MRPS_OneX_OneMax , Mean_Eval_OneX_OneMax))))\n",
        "OneX_OneMax_data = np.vstack((OneX_OneMax_data, np.hstack(([\"Std\"], std_MRPS_OneX_OneMax, std_Eval_OneX_OneMax))))\n",
        "OneX_OneMax_data = pd.DataFrame(OneX_OneMax_data, columns=['Start seed number', 'MRPS 10', 'MRPS 20', 'MRPS 40', 'MRPS 80', 'MRPS 160', 'Eva 10', 'Eva 20', 'Eva 40', 'Eva 80', 'Eva 160'])"
      ]
    },
    {
      "cell_type": "code",
      "execution_count": null,
      "metadata": {
        "id": "O_DSnXqZJynW"
      },
      "outputs": [],
      "source": [
        "OneX_OneMax_data\n",
        "OneX_OneMax_data.to_csv(\"OneX_OneMax_data.csv\")"
      ]
    },
    {
      "cell_type": "markdown",
      "metadata": {
        "id": "X2hTVsiUGpHb"
      },
      "source": [
        "# Tính (Mean của (MRPS và Evaluations) ) cho UX_OneMax"
      ]
    },
    {
      "cell_type": "code",
      "execution_count": null,
      "metadata": {
        "id": "q2772nnMLi6_"
      },
      "outputs": [],
      "source": [
        "seed_arr = [19520197 +i*10 for i in range(10)]"
      ]
    },
    {
      "cell_type": "code",
      "execution_count": null,
      "metadata": {
        "id": "1cCbW3Yc-0na"
      },
      "outputs": [],
      "source": [
        "data_MRPS_UX_OneMax = MRPS\n",
        "data_averageCall_UX_OneMax = ave_eval"
      ]
    },
    {
      "cell_type": "code",
      "execution_count": null,
      "metadata": {
        "colab": {
          "base_uri": "https://localhost:8080/"
        },
        "id": "j0YNNeHB-68V",
        "outputId": "f66ceff6-5362-44d3-f7bf-0267dc96c875"
      },
      "outputs": [
        {
          "name": "stdout",
          "output_type": "stream",
          "text": [
            "UX OneMax\n",
            "MRPS   Ave_call\n",
            "10    60.0\n",
            "16    128.0\n",
            "24    312.0\n",
            "68    1292.0\n",
            "136    3672.0\n",
            "10    50.0\n",
            "16    128.0\n",
            "24    360.0\n",
            "80    1600.0\n",
            "88    2552.0\n",
            "16    144.0\n",
            "14    126.0\n",
            "34    476.0\n",
            "48    1008.0\n",
            "96    3072.0\n",
            "14    84.0\n",
            "26    338.0\n",
            "44    616.0\n",
            "72    1440.0\n",
            "128    3840.0\n",
            "10    80.0\n",
            "18    198.0\n",
            "36    576.0\n",
            "68    1360.0\n",
            "136    3808.0\n",
            "10    70.0\n",
            "28    308.0\n",
            "44    660.0\n",
            "96    1824.0\n",
            "96    2880.0\n",
            "16    89.6\n",
            "18    144.0\n",
            "40    520.0\n",
            "68    1360.0\n",
            "136    3808.0\n",
            "14    70.0\n",
            "28    252.0\n",
            "40    600.0\n",
            "80    1520.0\n",
            "88    2640.0\n",
            "18    144.0\n",
            "18    180.0\n",
            "52    676.0\n",
            "68    1360.0\n",
            "104    3120.0\n",
            "18    72.0\n",
            "22    198.0\n",
            "52    780.0\n",
            "80    1600.0\n",
            "136    3944.0\n"
          ]
        }
      ],
      "source": [
        "print(\"UX OneMax\")\n",
        "print(\"MRPS   Ave_call\")\n",
        "for i in range(len(data_MRPS_UX_OneMax)):\n",
        "  print(data_MRPS_UX_OneMax[i],\"  \", data_averageCall_UX_OneMax[i])"
      ]
    },
    {
      "cell_type": "code",
      "execution_count": null,
      "metadata": {
        "id": "4q-ZC3XHLjjZ"
      },
      "outputs": [],
      "source": [
        "MRPS_UX_OneMax = np.array(data_MRPS_UX_OneMax).reshape((-1, 5))\n",
        "Eval_UX_OneMax = np.array(data_averageCall_UX_OneMax).reshape((-1, 5))\n",
        "Mean_MRPS_UX_OneMax = np.average(MRPS_UX_OneMax, axis = 0)\n",
        "Mean_Eval_UX_OneMax = np.average(Eval_UX_OneMax, axis = 0)"
      ]
    },
    {
      "cell_type": "code",
      "execution_count": null,
      "metadata": {
        "colab": {
          "base_uri": "https://localhost:8080/"
        },
        "id": "WV8bly6_Lwwl",
        "outputId": "a4d73251-10d6-41b7-dc65-f7f46c36abaf"
      },
      "outputs": [
        {
          "name": "stdout",
          "output_type": "stream",
          "text": [
            "[[ 10  16  24  68 136]\n",
            " [ 10  16  24  80  88]\n",
            " [ 16  14  34  48  96]\n",
            " [ 14  26  44  72 128]\n",
            " [ 10  18  36  68 136]\n",
            " [ 10  28  44  96  96]\n",
            " [ 16  18  40  68 136]\n",
            " [ 14  28  40  80  88]\n",
            " [ 18  18  52  68 104]\n",
            " [ 18  22  52  80 136]]\n",
            "[ 13.6  20.4  39.   72.8 114.4]\n",
            "[[  60.   128.   312.  1292.  3672. ]\n",
            " [  50.   128.   360.  1600.  2552. ]\n",
            " [ 144.   126.   476.  1008.  3072. ]\n",
            " [  84.   338.   616.  1440.  3840. ]\n",
            " [  80.   198.   576.  1360.  3808. ]\n",
            " [  70.   308.   660.  1824.  2880. ]\n",
            " [  89.6  144.   520.  1360.  3808. ]\n",
            " [  70.   252.   600.  1520.  2640. ]\n",
            " [ 144.   180.   676.  1360.  3120. ]\n",
            " [  72.   198.   780.  1600.  3944. ]]\n",
            "[  86.36  200.    557.6  1436.4  3333.6 ]\n"
          ]
        }
      ],
      "source": [
        "print(MRPS_UX_OneMax)\n",
        "print(Mean_MRPS_UX_OneMax)\n",
        "print(Eval_UX_OneMax)\n",
        "print(Mean_Eval_UX_OneMax)"
      ]
    },
    {
      "cell_type": "code",
      "execution_count": null,
      "metadata": {
        "colab": {
          "base_uri": "https://localhost:8080/"
        },
        "id": "YkUOwDNeL1hY",
        "outputId": "ede0cf57-abd8-4a1c-cd1a-ede153218c9f"
      },
      "outputs": [
        {
          "name": "stdout",
          "output_type": "stream",
          "text": [
            "[3.2        3.50998575 4.67439836 4.18568991 5.14198405]\n",
            "[ 30.75656678  51.38093031  68.36490328  73.54032907 127.60893386]\n"
          ]
        }
      ],
      "source": [
        "std_MRPS_UX_OneMax = np.subtract(MRPS_UX_OneMax, Mean_MRPS_UX_OneMax)\n",
        "std_MRPS_UX_OneMax = np.square(std_MRPS_UX_OneMax)\n",
        "std_MRPS_UX_OneMax = np.sum(std_MRPS_UX_OneMax, axis = 0)\n",
        "std_MRPS_UX_OneMax = np.divide(std_MRPS_UX_OneMax, problem_size)\n",
        "std_MRPS_UX_OneMax = np.sqrt(std_MRPS_UX_OneMax)\n",
        "print(std_MRPS_UX_OneMax)\n",
        "\n",
        "std_Eval_UX_OneMax = np.subtract(Eval_UX_OneMax, Mean_Eval_UX_OneMax)\n",
        "std_Eval_UX_OneMax = np.square(std_Eval_UX_OneMax)\n",
        "std_Eval_UX_OneMax = np.sum(std_Eval_UX_OneMax, axis = 0)\n",
        "std_Eval_UX_OneMax = np.divide(std_Eval_UX_OneMax, problem_size)\n",
        "std_Eval_UX_OneMax = np.sqrt(std_Eval_UX_OneMax)\n",
        "print(std_Eval_UX_OneMax)"
      ]
    },
    {
      "cell_type": "code",
      "execution_count": null,
      "metadata": {
        "id": "FrBqFngSME_g"
      },
      "outputs": [],
      "source": [
        "UX_OneMax_data = np.hstack((np.array(seed_arr).reshape(-1, 1), MRPS_UX_OneMax, Eval_UX_OneMax))\n",
        "UX_OneMax_data = np.vstack((UX_OneMax_data, np.hstack(([\"Mean\"], Mean_MRPS_UX_OneMax , Mean_Eval_UX_OneMax))))\n",
        "UX_OneMax_data = np.vstack((UX_OneMax_data, np.hstack(([\"Std\"], std_MRPS_UX_OneMax, std_Eval_UX_OneMax))))\n",
        "UX_OneMax_data = pd.DataFrame(UX_OneMax_data, columns=['Start seed number', 'MRPS 10', 'MRPS 20', 'MRPS 40', 'MRPS 80', 'MRPS 160', 'Eva 10', 'Eva 20', 'Eva 40', 'Eva 80', 'Eva 160'])"
      ]
    },
    {
      "cell_type": "code",
      "execution_count": null,
      "metadata": {
        "id": "1-0jiN3jOgYo"
      },
      "outputs": [],
      "source": [
        "UX_OneMax_data\n",
        "UX_OneMax_data.to_csv(\"UX_OneMax_data.csv\")"
      ]
    },
    {
      "cell_type": "markdown",
      "metadata": {
        "id": "5qampLwxSBwQ"
      },
      "source": [
        "# Lưu Table OneMax "
      ]
    },
    {
      "cell_type": "code",
      "execution_count": 15,
      "metadata": {
        "colab": {
          "base_uri": "https://localhost:8080/"
        },
        "id": "ifeeLacjWzDP",
        "outputId": "b77e2630-cdef-4de9-d0ac-48d835c9eefa"
      },
      "outputs": [
        {
          "data": {
            "text/plain": [
              "['MRPS 10',\n",
              " 'MRPS 20',\n",
              " 'MRPS 40',\n",
              " 'MRPS 80',\n",
              " 'MRPS 160',\n",
              " 'Eva 10',\n",
              " 'Eva 20',\n",
              " 'Eva 40',\n",
              " 'Eva 80',\n",
              " 'Eva 160']"
            ]
          },
          "execution_count": 15,
          "metadata": {},
          "output_type": "execute_result"
        }
      ],
      "source": [
        "temp = pd.read_csv(\"OneX_OneMax_data.csv\")\n",
        "name = [i for i in temp]\n",
        "name = name[2::]\n",
        "name"
      ]
    },
    {
      "cell_type": "code",
      "execution_count": 16,
      "metadata": {
        "id": "aqjtjsyMZxwK"
      },
      "outputs": [],
      "source": [
        "data_1X_Mean_Mrps_OneMax = []\n",
        "data_1X_std_Mrps_OneMax = []\n",
        "data_1X_Mean_Eval_OneMax = []\n",
        "data_1X_std_Eval_OneMax = []"
      ]
    },
    {
      "cell_type": "code",
      "execution_count": 17,
      "metadata": {
        "colab": {
          "base_uri": "https://localhost:8080/"
        },
        "id": "Amvn2HkeatCi",
        "outputId": "41dd654e-7260-42d5-ebdb-57cf00708721"
      },
      "outputs": [
        {
          "name": "stdout",
          "output_type": "stream",
          "text": [
            "[15.6, 39.6, 152.8, 412.8, 2112.0]\n",
            "[4.5431266766402185, 6.687301398920195, 22.7297162322806, 34.852833457267145, 100.43107088944136]\n"
          ]
        }
      ],
      "source": [
        "# lấy data cho Mean MRPS 1X OneMax\n",
        "i = 10\n",
        "for _ in range(5):\n",
        "  x = []\n",
        "  for j in temp[f\"MRPS {i}\"]:\n",
        "    x.append(j)\n",
        "  data_1X_Mean_Mrps_OneMax.append(x[10])\n",
        "  data_1X_std_Mrps_OneMax.append(round(x[11],2))\n",
        "  i = i * 2 \n",
        "np.array(data_1X_Mean_Mrps_OneMax)\n",
        "np.array(data_1X_std_Mrps_OneMax)\n",
        "print(data_1X_Mean_Mrps_OneMax)\n",
        "print(data_1X_std_Mrps_OneMax)\n"
      ]
    },
    {
      "cell_type": "code",
      "execution_count": 19,
      "metadata": {
        "colab": {
          "base_uri": "https://localhost:8080/"
        },
        "id": "MRgNvBoQatr4",
        "outputId": "e171a894-fecd-44e7-b9b0-e856443eed29"
      },
      "outputs": [
        {
          "name": "stdout",
          "output_type": "stream",
          "text": [
            "[110.32, 443.0, 2580.0, 11097.6, 84940.8]\n",
            "[32.07181940582729, 89.82928253080952, 316.42629473544065, 959.0235033616226, 3957.695005934642]\n"
          ]
        }
      ],
      "source": [
        "# lấy data cho Mean Eval 1X OneMax\n",
        "i = 10\n",
        "for _ in range(5):\n",
        "  x = []\n",
        "  for j in temp[f\"Eva {i}\"]:\n",
        "    x.append(j)\n",
        "  data_1X_Mean_Eval_OneMax.append(x[10])\n",
        "  data_1X_std_Eval_OneMax.append(round(x[11], 2))\n",
        "  i = i * 2 \n",
        "np.array(data_1X_Mean_Eval_OneMax)\n",
        "np.array(data_1X_std_Eval_OneMax)\n",
        "print(data_1X_Mean_Eval_OneMax)\n",
        "print(data_1X_std_Eval_OneMax)\n"
      ]
    },
    {
      "cell_type": "code",
      "execution_count": 20,
      "metadata": {
        "colab": {
          "base_uri": "https://localhost:8080/"
        },
        "id": "X6iRGybydAgP",
        "outputId": "3b8c1dc6-cd64-40a7-da47-687bc1fec00f"
      },
      "outputs": [
        {
          "data": {
            "text/plain": [
              "['MRPS 10',\n",
              " 'MRPS 20',\n",
              " 'MRPS 40',\n",
              " 'MRPS 80',\n",
              " 'MRPS 160',\n",
              " 'Eva 10',\n",
              " 'Eva 20',\n",
              " 'Eva 40',\n",
              " 'Eva 80',\n",
              " 'Eva 160']"
            ]
          },
          "execution_count": 20,
          "metadata": {},
          "output_type": "execute_result"
        }
      ],
      "source": [
        "temp_ = pd.read_csv(\"UX_OneMax_data.csv\")\n",
        "name_ = [i for i in temp_]\n",
        "name_ = name_[2::]\n",
        "name_"
      ]
    },
    {
      "cell_type": "code",
      "execution_count": 21,
      "metadata": {
        "id": "B4pNZ4qLdLkB"
      },
      "outputs": [],
      "source": [
        "data_UX_Mean_Mrps_OneMax = []\n",
        "data_UX_std_Mrps_OneMax = []\n",
        "data_UX_Mean_Eval_OneMax = []\n",
        "data_UX_std_Eval_OneMax = []"
      ]
    },
    {
      "cell_type": "code",
      "execution_count": 22,
      "metadata": {
        "colab": {
          "base_uri": "https://localhost:8080/"
        },
        "id": "sMH7H68-dQRW",
        "outputId": "c5b38a1d-89c7-4d05-b747-b25ee6feb12b"
      },
      "outputs": [
        {
          "name": "stdout",
          "output_type": "stream",
          "text": [
            "[13.6, 20.4, 39.0, 72.8, 114.4]\n",
            "[3.2, 3.5099857549568485, 4.674398357008098, 4.185689907291271, 5.141984052872977]\n"
          ]
        }
      ],
      "source": [
        "# lấy data cho Mean MRPS UX OneMax\n",
        "i = 10\n",
        "for _ in range(5):\n",
        "  x = []\n",
        "  for j in temp_[f\"MRPS {i}\"]:\n",
        "    x.append(j)\n",
        "  data_UX_Mean_Mrps_OneMax.append(x[10])\n",
        "  data_UX_std_Mrps_OneMax.append(x[11])\n",
        "  i = i * 2 \n",
        "np.array(data_UX_Mean_Mrps_OneMax)\n",
        "np.array(data_UX_std_Mrps_OneMax)\n",
        "print(data_UX_Mean_Mrps_OneMax)\n",
        "print(data_UX_std_Mrps_OneMax)\n"
      ]
    },
    {
      "cell_type": "code",
      "execution_count": 23,
      "metadata": {
        "colab": {
          "base_uri": "https://localhost:8080/"
        },
        "id": "DI0AOkO5dZId",
        "outputId": "874a90aa-1bef-4aa6-b6dc-475a25b938ae"
      },
      "outputs": [
        {
          "name": "stdout",
          "output_type": "stream",
          "text": [
            "[86.36, 200.0, 557.6, 1436.4, 3333.6]\n",
            "[30.75656677849464, 51.38093031466052, 68.36490327646196, 73.54032907187728, 127.608933856529]\n"
          ]
        }
      ],
      "source": [
        "# lấy data cho Mean Eval UX OneMax\n",
        "i = 10\n",
        "for _ in range(5):\n",
        "  x = []\n",
        "  for j in temp_[f\"Eva {i}\"]:\n",
        "    x.append(j)\n",
        "  data_UX_Mean_Eval_OneMax.append(x[10])\n",
        "  data_UX_std_Eval_OneMax.append(x[11])\n",
        "  i = i * 2 \n",
        "np.array(data_UX_Mean_Eval_OneMax)\n",
        "np.array(data_UX_std_Eval_OneMax)\n",
        "print(data_UX_Mean_Eval_OneMax)\n",
        "print(data_UX_std_Eval_OneMax)"
      ]
    },
    {
      "cell_type": "code",
      "execution_count": 55,
      "metadata": {
        "id": "qgOAcGIRdiEL"
      },
      "outputs": [],
      "source": [
        "_data_MRPS_std_OX_OneMax = []\n",
        "_data_Eval_std_OX_OneMax = []\n",
        "_data_MRPS_std_UX_OneMax = []\n",
        "_data_Eval_std_UX_OneMax = []"
      ]
    },
    {
      "cell_type": "code",
      "execution_count": 56,
      "metadata": {
        "id": "Su264fgGeFpw"
      },
      "outputs": [],
      "source": [
        "# combine dữ liệu cho OX OneMax\n",
        "for i in range(5):\n",
        "  _data_MRPS_std_OX_OneMax.append(f\"{str(data_1X_Mean_Mrps_OneMax[i])} ({str(data_1X_std_Mrps_OneMax[i])})\")\n",
        "  _data_Eval_std_OX_OneMax.append(f\"{str(data_1X_Mean_Eval_OneMax[i])} ({str(data_1X_std_Eval_OneMax[i])})\")\n"
      ]
    },
    {
      "cell_type": "code",
      "execution_count": 57,
      "metadata": {
        "colab": {
          "base_uri": "https://localhost:8080/"
        },
        "id": "H7eN8xF1jVPt",
        "outputId": "c75a06eb-e211-4756-c72f-b31a184f1453"
      },
      "outputs": [
        {
          "name": "stdout",
          "output_type": "stream",
          "text": [
            "['15.6 (4.5431266766402185)' '39.6 (6.687301398920195)'\n",
            " '152.8 (22.7297162322806)' '412.8 (34.852833457267145)'\n",
            " '2112.0 (100.43107088944136)']\n",
            "['110.32 (32.07181940582729)' '443.0 (89.82928253080952)'\n",
            " '2580.0 (316.42629473544065)' '11097.6 (959.0235033616226)'\n",
            " '84940.8 (3957.695005934642)']\n"
          ]
        }
      ],
      "source": [
        "data_MRPS_std_OX_OneMax = np.array(_data_MRPS_std_OX_OneMax)\n",
        "data_Eval_std_OX_OneMax = np.array(_data_Eval_std_OX_OneMax)\n",
        "print(data_MRPS_std_OX_OneMax)\n",
        "print(data_Eval_std_OX_OneMax)"
      ]
    },
    {
      "cell_type": "code",
      "execution_count": 58,
      "metadata": {
        "id": "Wnsjutu6gT7j"
      },
      "outputs": [],
      "source": [
        "# combine dữ liệu cho UX OneMax\n",
        "for i in range(5):\n",
        "  _data_MRPS_std_UX_OneMax.append(f\"{str(data_UX_Mean_Mrps_OneMax[i])} ({str(data_UX_std_Mrps_OneMax[i])})\")\n",
        "  _data_Eval_std_UX_OneMax.append(f\"{str(data_UX_Mean_Eval_OneMax[i])} ({str(data_UX_std_Eval_OneMax[i])})\")\n"
      ]
    },
    {
      "cell_type": "code",
      "execution_count": 59,
      "metadata": {
        "colab": {
          "base_uri": "https://localhost:8080/"
        },
        "id": "vZ98CX15ja-U",
        "outputId": "f8021fc9-e481-42bc-f3f8-53052f3ef6b4"
      },
      "outputs": [
        {
          "name": "stdout",
          "output_type": "stream",
          "text": [
            "['13.6 (3.2)' '20.4 (3.5099857549568485)' '39.0 (4.674398357008098)'\n",
            " '72.8 (4.185689907291271)' '114.4 (5.141984052872977)']\n",
            "['86.36 (30.75656677849464)' '200.0 (51.38093031466052)'\n",
            " '557.6 (68.36490327646196)' '1436.4 (73.54032907187728)'\n",
            " '3333.6 (127.608933856529)']\n"
          ]
        }
      ],
      "source": [
        "data_MRPS_std_UX_OneMax = np.array(_data_MRPS_std_UX_OneMax)\n",
        "data_Eval_std_UX_OneMax = np.array(_data_Eval_std_UX_OneMax)\n",
        "print(data_MRPS_std_UX_OneMax)\n",
        "print(data_Eval_std_UX_OneMax)"
      ]
    },
    {
      "cell_type": "code",
      "execution_count": 60,
      "metadata": {
        "id": "tPT8N09sSLx1"
      },
      "outputs": [],
      "source": [
        "col = ['10', '20', '40', '80', '160']\n",
        "data = np.hstack((np.array(col).reshape(-1,1), data_MRPS_std_OX_OneMax.reshape(-1, 1), data_Eval_std_OX_OneMax.reshape(-1,1), data_MRPS_std_UX_OneMax.reshape(-1,1), data_Eval_std_UX_OneMax.reshape(-1,1)))\n",
        "data = pd.DataFrame(data, columns=['Problem size', '1X MRPS', '1X Evaluation Call', 'UX MRPS', 'UX Evaluation Call'])\n",
        "data\n",
        "data.to_csv(\"Onemax_data.csv\")"
      ]
    },
    {
      "cell_type": "markdown",
      "metadata": {
        "id": "jkjIwpEv_K8_"
      },
      "source": [
        "# Trap 5"
      ]
    },
    {
      "cell_type": "code",
      "execution_count": 72,
      "metadata": {
        "id": "R8de4aKo_POc"
      },
      "outputs": [],
      "source": [
        "def concatenated_trap_k(ind, k):\n",
        "  fitness = 0\n",
        "  for i in range(0, len(ind), k):\n",
        "    u = 0\n",
        "    for j in range(0, k):\n",
        "      u += ind[i+j]\n",
        "    if u == k:\n",
        "      fitness += k\n",
        "    else:\n",
        "      fitness += (k-1-u)\n",
        "  return fitness "
      ]
    },
    {
      "cell_type": "code",
      "execution_count": 73,
      "metadata": {
        "id": "N2lgfSWS_SkE"
      },
      "outputs": [],
      "source": [
        "def evaluate_population_trap5( pop ):\n",
        "    \n",
        "    values = np.array([concatenated_trap_k(ind, 5) for ind in pop])\n",
        "    \n",
        "    return values"
      ]
    },
    {
      "cell_type": "code",
      "execution_count": 74,
      "metadata": {
        "id": "uDoyNnRr_XMY"
      },
      "outputs": [],
      "source": [
        "def check_trap5(pop_fitness, num_variables):\n",
        "  for fitness in pop_fitness:\n",
        "    if fitness != num_variables:\n",
        "      return False\n",
        "  return True"
      ]
    },
    {
      "cell_type": "code",
      "execution_count": 75,
      "metadata": {
        "id": "_SCsOBvi_ZJ7"
      },
      "outputs": [],
      "source": [
        "def popop_trap5(num_individuals, num_parameters, key):\n",
        "\n",
        "    pop = initialize_population(num_individuals, num_parameters)\n",
        "    pop_fitness = evaluate_population_trap5(pop)\n",
        "    #print(\"#Gen 0:\")\n",
        "    #print(pop_fitness)\n",
        "    #first_pop_fitness = pop_fitness\n",
        "    \n",
        "    selection_size = len(pop)\n",
        "    tournament_size = 4\n",
        "\n",
        "    time_called = 0\n",
        "\n",
        "    while not check_convergence(pop) and not check_trap5(pop_fitness, num_parameters):\n",
        "  \n",
        "        offspring = [] \n",
        "        if key == 1: offspring = variation_OneX(pop) # lai 1 diem\n",
        "        else: offspring = variation_UX(pop) # lai dong nhat\n",
        "        offspring_fitness = evaluate_population_trap5(offspring)\n",
        "        time_called += (len(offspring) * len(offspring[0]) // 5)\n",
        "        \n",
        "        pool = np.vstack((pop,offspring))\n",
        "        pool_fitness = np.hstack((pop_fitness, offspring_fitness))\n",
        "\n",
        "     \n",
        "        pool_indices = tournament_selection(pool, pool_fitness, selection_size, tournament_size)\n",
        "\n",
        "      \n",
        "        pop = pool[pool_indices, :]\n",
        "        pop_fitness = pool_fitness[pool_indices]\n",
        "        #print(\"#Gen {}:\".format(i+1))\n",
        "        #print(pop_fitness)\n",
        "\n",
        "    #print(\"#Result:\")\n",
        "    #print(pop)\n",
        "    #print(pop_fitness)\n",
        "    return pop, pop_fitness, time_called"
      ]
    },
    {
      "cell_type": "code",
      "execution_count": 76,
      "metadata": {
        "id": "LGRv8dl5_mC8"
      },
      "outputs": [],
      "source": [
        "def isSuccess_trap5(num_individuals, num_variables, seed, random_seed, key):\n",
        "  average_call = 0\n",
        "  for i in range(10):\n",
        "    seed_ = 1\n",
        "    if key == 1:\n",
        "      seed_ = random_seed[i]\n",
        "    else: \n",
        "      seed_ = np.random.randint(seed, seed + 10)\n",
        "      random_seed.append(seed)\n",
        "\n",
        "    np.random.seed(seed_)\n",
        "    #pop, pop_fitness, time_called = popop_trap5(num_individuals, num_variables,  0) # lai dong nhat\n",
        "    pop, pop_fitness, time_called = popop_trap5(num_individuals, num_variables, 1) # lai mot diem\n",
        "    average_call += time_called\n",
        "    if  not check_trap5(pop_fitness, num_variables):\n",
        "      return -1 \n",
        "  return average_call/10"
      ]
    },
    {
      "cell_type": "code",
      "execution_count": 77,
      "metadata": {
        "id": "eSqddqLV_pOi"
      },
      "outputs": [],
      "source": [
        "def find_upper_trap5(num_variables, seed, random_seed):\n",
        "  num_individuals = 4\n",
        "  average_call = isSuccess_trap5(num_individuals, num_variables, seed, random_seed, 0)\n",
        "  while average_call == -1:\n",
        "    num_individuals *= 2\n",
        "    average_call = isSuccess_trap5(num_individuals, num_variables, seed, random_seed, 0)\n",
        "    if num_individuals > 8192: \n",
        "      return [-1, 0]\n",
        "\n",
        "  print(f'Cần {num_individuals} cá thể để chạy POPOP thành công 10 lần cho {num_variables} biến')\n",
        "  return [num_individuals, average_call+10]"
      ]
    },
    {
      "cell_type": "code",
      "execution_count": 78,
      "metadata": {
        "id": "dqmCvnkv_sNO"
      },
      "outputs": [],
      "source": [
        "def eval_mrps_trap5(num_individuals, size, random_seed, seed):\n",
        "  n_upper, n_lower = num_individuals, num_individuals//2\n",
        "  average_call = 0\n",
        "  while (n_upper - n_lower) / n_upper > 0.1:\n",
        "    n = (n_upper + n_lower) // 2\n",
        "    if n % 2 != 0: n+=1 \n",
        "    x = isSuccess_trap5(n, size, seed, random_seed, 1)\n",
        "    if x != -1:\n",
        "      n_upper = n\n",
        "      average_call = x\n",
        "    else:\n",
        "      n_lower = n\n",
        "    if n_upper - n_lower <= 2: break\n",
        "\n",
        "  print(f'{n_lower} <= x <= {n_upper}')\n",
        "  return n_upper, average_call"
      ]
    },
    {
      "cell_type": "code",
      "execution_count": 112,
      "metadata": {
        "id": "4a-XtSO03A2b"
      },
      "outputs": [],
      "source": [
        "problem_size = [10, 20, 40, 80, 160]"
      ]
    },
    {
      "cell_type": "code",
      "execution_count": 79,
      "metadata": {
        "colab": {
          "base_uri": "https://localhost:8080/"
        },
        "id": "WBjeGHAR_vuu",
        "outputId": "273889b0-1b03-446f-fd36-fe2cf57ed64a"
      },
      "outputs": [
        {
          "name": "stdout",
          "output_type": "stream",
          "text": [
            "Lần 1\n",
            "---------------\n",
            "Cần 512 cá thể để chạy POPOP thành công 10 lần cho 40 biến\n",
            "384 <= x <= 416\n",
            "Cần 2048 cá thể để chạy POPOP thành công 10 lần cho 80 biến\n",
            "1152 <= x <= 1280\n",
            "---------------\n",
            "Lần 2\n",
            "---------------\n",
            "Cần 1024 cá thể để chạy POPOP thành công 10 lần cho 40 biến\n",
            "512 <= x <= 544\n",
            "Cần 4096 cá thể để chạy POPOP thành công 10 lần cho 80 biến\n",
            "2048 <= x <= 2176\n",
            "---------------\n",
            "Lần 3\n",
            "---------------\n",
            "Cần 256 cá thể để chạy POPOP thành công 10 lần cho 40 biến\n",
            "240 <= x <= 256\n",
            "Cần 1024 cá thể để chạy POPOP thành công 10 lần cho 80 biến\n",
            "896 <= x <= 960\n",
            "---------------\n",
            "Lần 4\n",
            "---------------\n",
            "Cần 512 cá thể để chạy POPOP thành công 10 lần cho 40 biến\n",
            "384 <= x <= 416\n",
            "Cần 2048 cá thể để chạy POPOP thành công 10 lần cho 80 biến\n",
            "1024 <= x <= 1088\n",
            "---------------\n",
            "Lần 5\n",
            "---------------\n",
            "Cần 1024 cá thể để chạy POPOP thành công 10 lần cho 40 biến\n",
            "768 <= x <= 832\n",
            "Cần 4096 cá thể để chạy POPOP thành công 10 lần cho 80 biến\n",
            "2560 <= x <= 2816\n",
            "---------------\n",
            "Lần 6\n",
            "---------------\n",
            "Cần 1024 cá thể để chạy POPOP thành công 10 lần cho 40 biến\n",
            "544 <= x <= 576\n",
            "Cần 2048 cá thể để chạy POPOP thành công 10 lần cho 80 biến\n",
            "1664 <= x <= 1792\n",
            "---------------\n",
            "Lần 7\n",
            "---------------\n",
            "Cần 1024 cá thể để chạy POPOP thành công 10 lần cho 40 biến\n",
            "640 <= x <= 704\n",
            "Cần 4096 cá thể để chạy POPOP thành công 10 lần cho 80 biến\n",
            "2048 <= x <= 2176\n",
            "---------------\n",
            "Lần 8\n",
            "---------------\n",
            "Cần 1024 cá thể để chạy POPOP thành công 10 lần cho 40 biến\n",
            "512 <= x <= 544\n",
            "Cần 2048 cá thể để chạy POPOP thành công 10 lần cho 80 biến\n",
            "1088 <= x <= 1152\n",
            "---------------\n",
            "Lần 9\n",
            "---------------\n",
            "Cần 1024 cá thể để chạy POPOP thành công 10 lần cho 40 biến\n",
            "512 <= x <= 544\n",
            "Cần 4096 cá thể để chạy POPOP thành công 10 lần cho 80 biến\n",
            "2560 <= x <= 2816\n",
            "---------------\n",
            "Lần 10\n",
            "---------------\n",
            "Cần 1024 cá thể để chạy POPOP thành công 10 lần cho 40 biến\n",
            "576 <= x <= 640\n",
            "Cần 4096 cá thể để chạy POPOP thành công 10 lần cho 80 biến\n",
            "2176 <= x <= 2304\n",
            "---------------\n",
            "MRPS   Ave_call\n",
            "416    59904.0\n",
            "1280    655360.0\n",
            "544    95744.0\n",
            "2176    1009664.0\n",
            "256    36874.0\n",
            "960    445440.0\n",
            "416    66560.0\n",
            "1088    557056.0\n",
            "832    106496.0\n",
            "2816    1261568.0\n",
            "576    101376.0\n",
            "1792    831488.0\n",
            "704    107008.0\n",
            "2176    1009664.0\n",
            "544    65280.0\n",
            "1152    423936.0\n",
            "544    91392.0\n",
            "2816    1216512.0\n",
            "640    81920.0\n",
            "2304    1142784.0\n"
          ]
        }
      ],
      "source": [
        "\n",
        "MRPS_trap5 = []\n",
        "data_random_seed = []\n",
        "ave_eval = []\n",
        "for i in range(10):\n",
        "  seed = 19520197 + i*10\n",
        "  print(f'Lần {i + 1}')\n",
        "  print(\"-\"*15)\n",
        "  for size in problem_size:\n",
        "    random_seed = []\n",
        "    x = find_upper_trap5(size, seed, random_seed)\n",
        "    num_individuals, average_call = x[0], x[1]\n",
        "    if num_individuals == -1: \n",
        "      n_times_success -= 1\n",
        "      break\n",
        "    mrps, average_eval = eval_mrps_trap5(int(num_individuals), size, random_seed, seed)\n",
        "    if mrps != 0 and mrps != -1 and mrps != num_individuals:\n",
        "      MRPS_trap5.append(mrps)\n",
        "      ave_eval.append(average_eval)\n",
        "    else:\n",
        "      MRPS_trap5.append(num_individuals)\n",
        "      ave_eval.append(average_call)\n",
        "\n",
        "    \n",
        "  #print(MRPS_trap5[5*i: 5*i + 5])\n",
        "  print(\"-\"*15)\n",
        "print(\"MRPS   Ave_call\")\n",
        "for i in range(len(MRPS_trap5)):\n",
        "  print(MRPS_trap5[i],\"  \", ave_eval[i])"
      ]
    },
    {
      "cell_type": "markdown",
      "metadata": {
        "id": "6JeqYW18O4bk"
      },
      "source": [
        "# Tính (Mean của (MRPS và Evaluations) ) cho UX_trap5"
      ]
    },
    {
      "cell_type": "code",
      "execution_count": null,
      "metadata": {
        "id": "jzflev0PO4bk"
      },
      "outputs": [],
      "source": [
        "seed_arr = [19520197 +i*10 for i in range(10)]"
      ]
    },
    {
      "cell_type": "code",
      "execution_count": null,
      "metadata": {
        "id": "WbFoPQwuO4bk"
      },
      "outputs": [],
      "source": [
        "data_MRPS_UX_trap5 = MRPS_trap5\n",
        "data_averageCall_UX_trap5 = ave_eval"
      ]
    },
    {
      "cell_type": "code",
      "execution_count": null,
      "metadata": {
        "colab": {
          "base_uri": "https://localhost:8080/"
        },
        "id": "M_2THcGWO4bk",
        "outputId": "14d1f87d-5844-416a-c974-6e6a49be5658"
      },
      "outputs": [
        {
          "name": "stdout",
          "output_type": "stream",
          "text": [
            "OneX TRAP 5\n",
            "MRPS   Ave_call\n",
            "136    2448.0\n",
            "1152    124416.0\n",
            "68    952.0\n",
            "1408    180224.0\n",
            "176    3872.0\n",
            "2176    174080.0\n",
            "160    4480.0\n",
            "256    22538.0\n",
            "176    2464.0\n",
            "2560    215040.0\n",
            "136    2176.0\n",
            "1536    129024.0\n",
            "68    952.0\n",
            "2176    191488.0\n",
            "144    2880.0\n",
            "1280    92160.0\n",
            "136    2448.0\n",
            "1280    128000.0\n",
            "272    4896.0\n",
            "2176    208896.0\n"
          ]
        }
      ],
      "source": [
        "print(\"OneX TRAP 5\")\n",
        "print(\"MRPS   Ave_call\")\n",
        "for i in range(len(data_MRPS_UX_trap5)):\n",
        "  print(data_MRPS_UX_trap5[i],\"  \", data_averageCall_UX_trap5[i])"
      ]
    },
    {
      "cell_type": "code",
      "execution_count": null,
      "metadata": {
        "id": "4-8qGrtUO4bk"
      },
      "outputs": [],
      "source": [
        "MRPS_UX_trap5 = np.array(data_MRPS_UX_trap5).reshape((-1, 2))\n",
        "Eval_UX_trap5 = np.array(data_averageCall_UX_trap5).reshape((-1, 2))\n",
        "Mean_MRPS_UX_trap5 = np.average(MRPS_UX_trap5, axis = 0)\n",
        "Mean_Eval_UX_trap5 = np.average(Eval_UX_trap5, axis = 0)"
      ]
    },
    {
      "cell_type": "code",
      "execution_count": null,
      "metadata": {
        "colab": {
          "base_uri": "https://localhost:8080/"
        },
        "id": "wOhliWLlO4bl",
        "outputId": "e7675058-1fdc-4c47-ba1e-9964307ea87e"
      },
      "outputs": [
        {
          "name": "stdout",
          "output_type": "stream",
          "text": [
            "[[ 136 1152]\n",
            " [  68 1408]\n",
            " [ 176 2176]\n",
            " [ 160  256]\n",
            " [ 176 2560]\n",
            " [ 136 1536]\n",
            " [  68 2176]\n",
            " [ 144 1280]\n",
            " [ 136 1280]\n",
            " [ 272 2176]]\n",
            "[ 147.2 1600. ]\n",
            "[[  2448. 124416.]\n",
            " [   952. 180224.]\n",
            " [  3872. 174080.]\n",
            " [  4480.  22538.]\n",
            " [  2464. 215040.]\n",
            " [  2176. 129024.]\n",
            " [   952. 191488.]\n",
            " [  2880.  92160.]\n",
            " [  2448. 128000.]\n",
            " [  4896. 208896.]]\n",
            "[  2756.8 146586.6]\n"
          ]
        }
      ],
      "source": [
        "print(MRPS_UX_trap5)\n",
        "print(Mean_MRPS_UX_trap5)\n",
        "print(Eval_UX_trap5)\n",
        "print(Mean_Eval_UX_trap5)"
      ]
    },
    {
      "cell_type": "code",
      "execution_count": null,
      "metadata": {
        "colab": {
          "base_uri": "https://localhost:8080/"
        },
        "id": "M__8bbItO4bl",
        "outputId": "e61886eb-89b8-44b9-a810-289989fedaea"
      },
      "outputs": [
        {
          "name": "stdout",
          "output_type": "stream",
          "text": [
            "[ 55.07231609 456.60310993]\n",
            "[ 1262.25296989 39979.73162516]\n"
          ]
        }
      ],
      "source": [
        "std_MRPS_UX_trap5 = np.subtract(MRPS_UX_trap5, Mean_MRPS_UX_trap5)\n",
        "std_MRPS_UX_trap5 = np.square(std_MRPS_UX_trap5)\n",
        "std_MRPS_UX_trap5 = np.sum(std_MRPS_UX_trap5, axis = 0)\n",
        "std_MRPS_UX_trap5 = np.divide(std_MRPS_UX_trap5, problem_size[0:2])\n",
        "std_MRPS_UX_trap5 = np.sqrt(std_MRPS_UX_trap5)\n",
        "print(std_MRPS_UX_trap5)\n",
        "\n",
        "std_Eval_UX_trap5 = np.subtract(Eval_UX_trap5, Mean_Eval_UX_trap5)\n",
        "std_Eval_UX_trap5 = np.square(std_Eval_UX_trap5)\n",
        "std_Eval_UX_trap5 = np.sum(std_Eval_UX_trap5, axis = 0)\n",
        "std_Eval_UX_trap5 = np.divide(std_Eval_UX_trap5, problem_size[0:2])\n",
        "std_Eval_UX_trap5 = np.sqrt(std_Eval_UX_trap5)\n",
        "print(std_Eval_UX_trap5)"
      ]
    },
    {
      "cell_type": "code",
      "execution_count": null,
      "metadata": {
        "id": "ZHicfIX1O4bl"
      },
      "outputs": [],
      "source": [
        "UX_trap5_data = np.hstack((np.array(seed_arr).reshape(-1, 1), MRPS_UX_trap5, Eval_UX_trap5))\n",
        "UX_trap5_data = np.vstack((UX_trap5_data, np.hstack(([\"Mean\"], Mean_MRPS_UX_trap5 , Mean_Eval_UX_trap5))))\n",
        "UX_trap5_data = np.vstack((UX_trap5_data, np.hstack(([\"Std\"], std_MRPS_UX_trap5, std_Eval_UX_trap5))))\n",
        "UX_trap5_data = pd.DataFrame(UX_trap5_data, columns=['Start seed number', 'MRPS 10', 'MRPS 20', 'Eva 10', 'Eva 20'])"
      ]
    },
    {
      "cell_type": "code",
      "execution_count": null,
      "metadata": {
        "id": "bCLb8LqbO4bl"
      },
      "outputs": [],
      "source": [
        "UX_trap5_data\n",
        "UX_trap5_data.to_csv(\"UX_trap5_data.csv\")"
      ]
    },
    {
      "cell_type": "markdown",
      "metadata": {
        "id": "4Tb2v46UQr1F"
      },
      "source": [
        "# Tính (Mean của (MRPS và Evaluations) ) cho OneX_trap5"
      ]
    },
    {
      "cell_type": "code",
      "execution_count": 70,
      "metadata": {
        "id": "2LB15D8FQr1F"
      },
      "outputs": [],
      "source": [
        "seed_arr = [19520197 +i*10 for i in range(10)]"
      ]
    },
    {
      "cell_type": "code",
      "execution_count": 94,
      "metadata": {
        "id": "cLSW7OHVvhFv"
      },
      "outputs": [],
      "source": [
        "_dt_MRPS_OX_trap5 = []\n",
        "_dt_Eval_OX_trap5 = []"
      ]
    },
    {
      "cell_type": "code",
      "execution_count": 95,
      "metadata": {
        "id": "-KeSQ0tQyowp"
      },
      "outputs": [],
      "source": [
        "csvFile = pandas.read_csv('OneX_trap5_data.csv')\n",
        "# displaying the contents of the CSV file"
      ]
    },
    {
      "cell_type": "code",
      "execution_count": 96,
      "metadata": {
        "id": "m6PUvYF0vcjg"
      },
      "outputs": [],
      "source": [
        "temp_data_MRPS = []\n",
        "temp_data_Eval = []\n",
        "n = 10\n",
        "for _ in range(2):\n",
        "  x = []\n",
        "  for t in csvFile[f\"MRPS {n}\"]:\n",
        "    x.append(t)\n",
        "  for j in range(10):\n",
        "    temp_data_MRPS.append(x[j])\n",
        "  x = []\n",
        "  for y in csvFile[f\"Eva {n}\"]:\n",
        "    x.append(y)\n",
        "  for j in range(10):\n",
        "    temp_data_Eval.append(x[j])\n",
        "  n *= 2"
      ]
    },
    {
      "cell_type": "code",
      "execution_count": 97,
      "metadata": {
        "id": "mBnEraABzXR3"
      },
      "outputs": [],
      "source": [
        "for i in range(len(temp_data_MRPS)-10):\n",
        "  _dt_MRPS_OX_trap5.append(temp_data_MRPS[i])\n",
        "  _dt_MRPS_OX_trap5.append(temp_data_MRPS[i+10])\n",
        "  _dt_Eval_OX_trap5.append(temp_data_Eval[i])\n",
        "  _dt_Eval_OX_trap5.append(temp_data_Eval[i+10])"
      ]
    },
    {
      "cell_type": "code",
      "execution_count": 98,
      "metadata": {
        "colab": {
          "base_uri": "https://localhost:8080/"
        },
        "id": "7rvA1J_4xOmI",
        "outputId": "52ca9601-38b8-45ed-941e-c24cfd23de1b"
      },
      "outputs": [
        {
          "name": "stdout",
          "output_type": "stream",
          "text": [
            "[52.0, 120.0, 4.0, 136.0, 68.0, 160.0, 64.0, 136.0, 34.0, 136.0, 136.0, 144.0, 68.0, 68.0, 28.0, 176.0, 68.0, 160.0, 68.0, 160.0]\n",
            "[728.0, 5280.0, 34.0, 6528.0, 1224.0, 9600.0, 982.8, 6528.0, 408.0, 6528.0, 1904.0, 6912.0, 816.0, 2176.0, 448.0, 10560.0, 952.0, 6400.0, 952.0, 7040.0]\n"
          ]
        }
      ],
      "source": [
        "print(_dt_MRPS_OX_trap5)\n",
        "print(_dt_Eval_OX_trap5)"
      ]
    },
    {
      "cell_type": "code",
      "execution_count": 106,
      "metadata": {
        "id": "18cHDPXa0-DJ"
      },
      "outputs": [],
      "source": [
        "MRPS_trap5_ = []\n",
        "ave_eval_ = []"
      ]
    },
    {
      "cell_type": "code",
      "execution_count": 107,
      "metadata": {
        "id": "IcY7v-_j0v2C"
      },
      "outputs": [],
      "source": [
        "for i in range(0,20, 2):\n",
        "  MRPS_trap5_.append(_dt_MRPS_OX_trap5[i])\n",
        "  MRPS_trap5_.append(_dt_MRPS_OX_trap5[i+1])\n",
        "  MRPS_trap5_.append(MRPS_trap5[i])\n",
        "  MRPS_trap5_.append(MRPS_trap5[i+1])\n",
        "  ave_eval_.append(_dt_Eval_OX_trap5[i])\n",
        "  ave_eval_.append(_dt_Eval_OX_trap5[i+1])\n",
        "  ave_eval_.append(ave_eval[i])\n",
        "  ave_eval_.append(ave_eval[i+1])\n"
      ]
    },
    {
      "cell_type": "code",
      "execution_count": 108,
      "metadata": {
        "colab": {
          "base_uri": "https://localhost:8080/"
        },
        "id": "y_Xr1jDP2JxD",
        "outputId": "bbddc205-22c1-441b-8e76-cc4cf62cd671"
      },
      "outputs": [
        {
          "name": "stdout",
          "output_type": "stream",
          "text": [
            "[52.0, 120.0, 416, 1280, 4.0, 136.0, 544, 2176, 68.0, 160.0, 256, 960, 64.0, 136.0, 416, 1088, 34.0, 136.0, 832, 2816, 136.0, 144.0, 576, 1792, 68.0, 68.0, 704, 2176, 28.0, 176.0, 544, 1152, 68.0, 160.0, 544, 2816, 68.0, 160.0, 640, 2304]\n",
            "[728.0, 5280.0, 59904.0, 655360.0, 34.0, 6528.0, 95744.0, 1009664.0, 1224.0, 9600.0, 36874.0, 445440.0, 982.8, 6528.0, 66560.0, 557056.0, 408.0, 6528.0, 106496.0, 1261568.0, 1904.0, 6912.0, 101376.0, 831488.0, 816.0, 2176.0, 107008.0, 1009664.0, 448.0, 10560.0, 65280.0, 423936.0, 952.0, 6400.0, 91392.0, 1216512.0, 952.0, 7040.0, 81920.0, 1142784.0]\n"
          ]
        }
      ],
      "source": [
        "print(MRPS_trap5_)\n",
        "print(ave_eval_)\n",
        "\n"
      ]
    },
    {
      "cell_type": "code",
      "execution_count": 110,
      "metadata": {
        "id": "Jj7GNmaTQr1G"
      },
      "outputs": [],
      "source": [
        "data_MRPS_OneX_trap5 = MRPS_trap5_\n",
        "data_averageCall_OneX_trap5 = ave_eval_"
      ]
    },
    {
      "cell_type": "code",
      "execution_count": 111,
      "metadata": {
        "colab": {
          "base_uri": "https://localhost:8080/"
        },
        "id": "v1yYZT6MQr1I",
        "outputId": "1f20fbd4-508d-4be6-b86a-8b67746f3544"
      },
      "outputs": [
        {
          "name": "stdout",
          "output_type": "stream",
          "text": [
            "OneX TRAP 5\n",
            "MRPS   Ave_call\n",
            "52.0    728.0\n",
            "120.0    5280.0\n",
            "416    59904.0\n",
            "1280    655360.0\n",
            "4.0    34.0\n",
            "136.0    6528.0\n",
            "544    95744.0\n",
            "2176    1009664.0\n",
            "68.0    1224.0\n",
            "160.0    9600.0\n",
            "256    36874.0\n",
            "960    445440.0\n",
            "64.0    982.8\n",
            "136.0    6528.0\n",
            "416    66560.0\n",
            "1088    557056.0\n",
            "34.0    408.0\n",
            "136.0    6528.0\n",
            "832    106496.0\n",
            "2816    1261568.0\n",
            "136.0    1904.0\n",
            "144.0    6912.0\n",
            "576    101376.0\n",
            "1792    831488.0\n",
            "68.0    816.0\n",
            "68.0    2176.0\n",
            "704    107008.0\n",
            "2176    1009664.0\n",
            "28.0    448.0\n",
            "176.0    10560.0\n",
            "544    65280.0\n",
            "1152    423936.0\n",
            "68.0    952.0\n",
            "160.0    6400.0\n",
            "544    91392.0\n",
            "2816    1216512.0\n",
            "68.0    952.0\n",
            "160.0    7040.0\n",
            "640    81920.0\n",
            "2304    1142784.0\n"
          ]
        }
      ],
      "source": [
        "print(\"OneX TRAP 5\")\n",
        "print(\"MRPS   Ave_call\")\n",
        "for i in range(len(data_MRPS_OneX_trap5)):\n",
        "  print(data_MRPS_OneX_trap5[i],\"  \", data_averageCall_OneX_trap5[i])"
      ]
    },
    {
      "cell_type": "code",
      "execution_count": 113,
      "metadata": {
        "id": "dPqzkm6nQr1I"
      },
      "outputs": [],
      "source": [
        "MRPS_OneX_trap5 = np.array(data_MRPS_OneX_trap5).reshape((-1, 4))\n",
        "Eval_OneX_trap5 = np.array(data_averageCall_OneX_trap5).reshape((-1, 4))\n",
        "Mean_MRPS_OneX_trap5 = np.average(MRPS_OneX_trap5, axis = 0)\n",
        "Mean_Eval_OneX_trap5 = np.average(Eval_OneX_trap5, axis = 0)"
      ]
    },
    {
      "cell_type": "code",
      "execution_count": 114,
      "metadata": {
        "colab": {
          "base_uri": "https://localhost:8080/"
        },
        "id": "Wu8dOzcGQr1I",
        "outputId": "82ca7656-c309-421d-b37c-c1de20d47a15"
      },
      "outputs": [
        {
          "name": "stdout",
          "output_type": "stream",
          "text": [
            "[[  52.  120.  416. 1280.]\n",
            " [   4.  136.  544. 2176.]\n",
            " [  68.  160.  256.  960.]\n",
            " [  64.  136.  416. 1088.]\n",
            " [  34.  136.  832. 2816.]\n",
            " [ 136.  144.  576. 1792.]\n",
            " [  68.   68.  704. 2176.]\n",
            " [  28.  176.  544. 1152.]\n",
            " [  68.  160.  544. 2816.]\n",
            " [  68.  160.  640. 2304.]]\n",
            "[  59.   139.6  547.2 1856. ]\n",
            "[[7.280000e+02 5.280000e+03 5.990400e+04 6.553600e+05]\n",
            " [3.400000e+01 6.528000e+03 9.574400e+04 1.009664e+06]\n",
            " [1.224000e+03 9.600000e+03 3.687400e+04 4.454400e+05]\n",
            " [9.828000e+02 6.528000e+03 6.656000e+04 5.570560e+05]\n",
            " [4.080000e+02 6.528000e+03 1.064960e+05 1.261568e+06]\n",
            " [1.904000e+03 6.912000e+03 1.013760e+05 8.314880e+05]\n",
            " [8.160000e+02 2.176000e+03 1.070080e+05 1.009664e+06]\n",
            " [4.480000e+02 1.056000e+04 6.528000e+04 4.239360e+05]\n",
            " [9.520000e+02 6.400000e+03 9.139200e+04 1.216512e+06]\n",
            " [9.520000e+02 7.040000e+03 8.192000e+04 1.142784e+06]]\n",
            "[8.448800e+02 6.755200e+03 8.125540e+04 8.553472e+05]\n"
          ]
        }
      ],
      "source": [
        "print(MRPS_OneX_trap5)\n",
        "print(Mean_MRPS_OneX_trap5)\n",
        "print(Eval_OneX_trap5)\n",
        "print(Mean_Eval_OneX_trap5)"
      ]
    },
    {
      "cell_type": "code",
      "execution_count": 115,
      "metadata": {
        "colab": {
          "base_uri": "https://localhost:8080/"
        },
        "id": "7NamMeUWQr1I",
        "outputId": "567b38ae-f317-4862-e7e6-512618b66f21"
      },
      "outputs": [
        {
          "name": "stdout",
          "output_type": "stream",
          "text": [
            "[ 33.07264731  20.17721487  76.54959177 236.45380098]\n",
            "[   482.47670369   1518.24572451  11084.8927108  106617.53680291]\n"
          ]
        }
      ],
      "source": [
        "std_MRPS_OneX_trap5 = np.subtract(MRPS_OneX_trap5, Mean_MRPS_OneX_trap5)\n",
        "std_MRPS_OneX_trap5 = np.square(std_MRPS_OneX_trap5)\n",
        "std_MRPS_OneX_trap5 = np.sum(std_MRPS_OneX_trap5, axis = 0)\n",
        "std_MRPS_OneX_trap5 = np.divide(std_MRPS_OneX_trap5, problem_size)\n",
        "std_MRPS_OneX_trap5 = np.sqrt(std_MRPS_OneX_trap5)\n",
        "print(std_MRPS_OneX_trap5)\n",
        "\n",
        "std_Eval_OneX_trap5 = np.subtract(Eval_OneX_trap5, Mean_Eval_OneX_trap5)\n",
        "std_Eval_OneX_trap5 = np.square(std_Eval_OneX_trap5)\n",
        "std_Eval_OneX_trap5 = np.sum(std_Eval_OneX_trap5, axis = 0)\n",
        "std_Eval_OneX_trap5 = np.divide(std_Eval_OneX_trap5, problem_size)\n",
        "std_Eval_OneX_trap5 = np.sqrt(std_Eval_OneX_trap5)\n",
        "print(std_Eval_OneX_trap5)"
      ]
    },
    {
      "cell_type": "code",
      "execution_count": 116,
      "metadata": {
        "id": "Hy7WZkTtQr1I"
      },
      "outputs": [],
      "source": [
        "OneX_trap5_data = np.hstack((np.array(seed_arr).reshape(-1, 1), MRPS_OneX_trap5, Eval_OneX_trap5))\n",
        "OneX_trap5_data = np.vstack((OneX_trap5_data, np.hstack(([\"Mean\"], Mean_MRPS_OneX_trap5 , Mean_Eval_OneX_trap5))))\n",
        "OneX_trap5_data = np.vstack((OneX_trap5_data, np.hstack(([\"Std\"], std_MRPS_OneX_trap5, std_Eval_OneX_trap5))))\n",
        "OneX_trap5_data = pd.DataFrame(OneX_trap5_data, columns=['Start seed number', 'MRPS 10', 'MRPS 20', 'MRPS 40', 'MRPS 80', 'Eva 10', 'Eva 20', 'Eva 40', 'Eva 80'])"
      ]
    },
    {
      "cell_type": "code",
      "execution_count": 130,
      "metadata": {
        "id": "J9pYUuEtQr1I"
      },
      "outputs": [],
      "source": [
        "OneX_trap5_data\n",
        "OneX_trap5_data.to_csv(\"OneX_trap5_data.csv\")"
      ]
    },
    {
      "cell_type": "markdown",
      "metadata": {
        "id": "7Bc9kWXsP8ea"
      },
      "source": [
        "# Lưu Table Trap5"
      ]
    },
    {
      "cell_type": "code",
      "execution_count": 118,
      "metadata": {
        "id": "EXkv0EvLrXbx"
      },
      "outputs": [],
      "source": [
        "# Lấy data UX Trap 5\n",
        "dt_mean_mrps_UX_trap5 = []\n",
        "dt_mean_eval_UX_trap5 = []\n",
        "dt_std_MRPS_UX_trap5 = []\n",
        "dt_std_Eval_UX_trap5 = []\n",
        "import pandas\n",
        " \n",
        "# reading the CSV file\n",
        "csvFile = pandas.read_csv('UX_trap5_data.csv')\n",
        "# displaying the contents of the CSV file\n",
        "x = []\n",
        "for i in csvFile[\"MRPS 10\"]:\n",
        "  x.append(i)\n",
        "dt_std_MRPS_UX_trap5.append(round(x[-1],2))\n",
        "dt_mean_mrps_UX_trap5.append(x[-2])\n",
        "x = []\n",
        "for i in csvFile[\"MRPS 20\"]:\n",
        "  x.append(i)\n",
        "dt_mean_mrps_UX_trap5.append(x[-2])\n",
        "dt_std_MRPS_UX_trap5.append(round(x[-1],2))\n",
        "x = []\n",
        "for i in csvFile[\"Eva 10\"]:\n",
        "  x.append(i)\n",
        "dt_std_Eval_UX_trap5.append(round(x[-1],2))\n",
        "dt_mean_eval_UX_trap5.append(x[-2])\n",
        "x = []\n",
        "for i in csvFile[\"Eva 20\"]:\n",
        "  x.append(i)\n",
        "dt_std_Eval_UX_trap5.append(round(x[-1],2))\n",
        "dt_mean_eval_UX_trap5.append(x[-2])\n",
        "#----------------------------------------#\n",
        "final_data_MRPS_UX_trap5 = []\n",
        "final_data_Eval_UX_trap5 = []\n",
        "for i in range(2):\n",
        "  final_data_MRPS_UX_trap5.append(f\"{str(dt_mean_mrps_UX_trap5[i])} ({str(dt_std_MRPS_UX_trap5[i])})\")\n",
        "  final_data_Eval_UX_trap5.append(f\"{str(dt_mean_eval_UX_trap5[i])} ({str(dt_std_Eval_UX_trap5[i])})\")\n"
      ]
    },
    {
      "cell_type": "code",
      "execution_count": 176,
      "metadata": {
        "colab": {
          "base_uri": "https://localhost:8080/"
        },
        "id": "lRCubLqFJZq_",
        "outputId": "bf8b5abc-8a48-4d5c-a8c2-6baa29880851"
      },
      "outputs": [
        {
          "name": "stdout",
          "output_type": "stream",
          "text": [
            "[147.2, 1600.0]\n",
            "[2756.8, 146586.6]\n",
            "[55.07, 456.6]\n",
            "[1262.25, 39979.73]\n"
          ]
        }
      ],
      "source": [
        "print(dt_mean_mrps_UX_trap5)\n",
        "print(dt_mean_eval_UX_trap5)\n",
        "print(dt_std_MRPS_UX_trap5)\n",
        "print(dt_std_Eval_UX_trap5)"
      ]
    },
    {
      "cell_type": "code",
      "execution_count": 125,
      "metadata": {
        "colab": {
          "base_uri": "https://localhost:8080/"
        },
        "id": "3XZgremknVcD",
        "outputId": "4259cea4-07e1-410c-e172-ce18f191744a"
      },
      "outputs": [
        {
          "name": "stdout",
          "output_type": "stream",
          "text": [
            "['147.2 (55.07)' '1600.0 (456.6)' '0 (0)' '0 (0)' '0 (0)']\n",
            "['2756.8 (1262.25)' '146586.6 (39979.73)' '0 (0)' '0 (0)' '0 (0)']\n"
          ]
        }
      ],
      "source": [
        "#print(csvFile)\n",
        "_final_data_MRPS_UX_trap5 = np.array(final_data_MRPS_UX_trap5 + ['0 (0)']* 3)\n",
        "_final_data_Eval_UX_trap5 = np.array(final_data_Eval_UX_trap5 + ['0 (0)']*3)\n",
        "print(_final_data_MRPS_UX_trap5)\n",
        "print(_final_data_Eval_UX_trap5)"
      ]
    },
    {
      "cell_type": "code",
      "execution_count": 126,
      "metadata": {
        "id": "hLGeMXWkkPCd"
      },
      "outputs": [],
      "source": [
        "# Lấy data OX Trap 5\n",
        "dt_mean_mrps_OX_trap5 = []\n",
        "dt_mean_eval_OX_trap5 = []\n",
        "dt_std_MRPS_OX_trap5 = []\n",
        "dt_std_Eval_OX_trap5 = []\n",
        "import pandas\n",
        " \n",
        "# reading the CSV file\n",
        "csvFile = pandas.read_csv('OneX_trap5_data_.csv')\n",
        "# displaying the contents of the CSV file\n",
        "n = 10\n",
        "for _ in range(4):\n",
        "  x = []\n",
        "  for t in csvFile[f\"MRPS {n}\"]:\n",
        "    x.append(t)\n",
        "  dt_std_MRPS_OX_trap5.append(round(x[-1],2))\n",
        "  dt_mean_mrps_OX_trap5.append(x[-2])\n",
        "  x = []\n",
        "  for y in csvFile[f\"Eva {n}\"]:\n",
        "    x.append(y)\n",
        "  dt_std_Eval_OX_trap5.append(round(x[-1],2))\n",
        "  dt_mean_eval_OX_trap5.append(x[-2])\n",
        "  n *= 2\n",
        "\n",
        "#----------------------------------------#\n",
        "final_data_MRPS_OX_trap5 = []\n",
        "final_data_Eval_OX_trap5 = []\n",
        "for i in range(2):\n",
        "  final_data_MRPS_OX_trap5.append(f\"{str(dt_mean_mrps_OX_trap5[i])} ({str(dt_std_MRPS_OX_trap5[i])})\")\n",
        "  final_data_Eval_OX_trap5.append(f\"{str(dt_mean_eval_OX_trap5[i])} ({str(dt_std_Eval_OX_trap5[i])})\")\n"
      ]
    },
    {
      "cell_type": "code",
      "execution_count": 128,
      "metadata": {
        "colab": {
          "base_uri": "https://localhost:8080/"
        },
        "id": "3NcDWohwnzqU",
        "outputId": "c998da04-1730-4f49-af49-c3ab2960a43c"
      },
      "outputs": [
        {
          "name": "stdout",
          "output_type": "stream",
          "text": [
            "['59.0 (33.07)' '139.6 (20.18)' '0 (0)' '0 (0)' '0 (0)']\n",
            "['844.8799999999999 (482.48)' '6755.2 (1518.25)' '0 (0)' '0 (0)' '0 (0)']\n"
          ]
        }
      ],
      "source": [
        "#print(csvFile)\n",
        "_final_data_MRPS_OX_trap5 = np.array(final_data_MRPS_OX_trap5+ ['0 (0)']*3)\n",
        "_final_data_Eval_OX_trap5 = np.array(final_data_Eval_OX_trap5+ ['0 (0)']*3)\n",
        "print(_final_data_MRPS_OX_trap5)\n",
        "print(_final_data_Eval_OX_trap5)"
      ]
    },
    {
      "cell_type": "code",
      "execution_count": 177,
      "metadata": {
        "colab": {
          "base_uri": "https://localhost:8080/"
        },
        "id": "vjxtVX4kJsYV",
        "outputId": "c624b3b5-19d8-4826-b12e-208b3d3f8875"
      },
      "outputs": [
        {
          "name": "stdout",
          "output_type": "stream",
          "text": [
            "[59.0, 139.6, 547.2, 1856.0]\n",
            "[844.8799999999999, 6755.2, 81255.4, 855347.2]\n",
            "[33.07, 20.18, 76.55, 236.45]\n",
            "[482.48, 1518.25, 11084.89, 106617.54]\n"
          ]
        }
      ],
      "source": [
        "print(dt_mean_mrps_OX_trap5)\n",
        "print(dt_mean_eval_OX_trap5)\n",
        "print(dt_std_MRPS_OX_trap5)\n",
        "print(dt_std_Eval_OX_trap5)"
      ]
    },
    {
      "cell_type": "code",
      "execution_count": 129,
      "metadata": {
        "id": "WAiYd4e7S27P"
      },
      "outputs": [],
      "source": [
        "col = ['10', '20', '40', '80', '160']\n",
        "data = np.hstack((np.array(col).reshape(-1,1), _final_data_MRPS_OX_trap5.reshape(-1, 1), _final_data_Eval_OX_trap5.reshape(-1,1), _final_data_MRPS_UX_trap5.reshape(-1,1), _final_data_Eval_UX_trap5.reshape(-1,1)))\n",
        "data = pd.DataFrame(data, columns=['Problem size', '1X MRPS', '1X Evaluation Call', 'UX MRPS', 'UX Evaluation Call'])\n",
        "data\n",
        "data.to_csv(\"trap5_data.csv\")"
      ]
    },
    {
      "cell_type": "markdown",
      "metadata": {
        "id": "rHXdjXHMqzua"
      },
      "source": [
        "# Vẽ Graph"
      ]
    },
    {
      "cell_type": "code",
      "execution_count": 135,
      "metadata": {
        "id": "_Q102RK6q5_x"
      },
      "outputs": [],
      "source": [
        "# OneX\n",
        "import matplotlib.pyplot as plt\n"
      ]
    },
    {
      "cell_type": "code",
      "execution_count": null,
      "metadata": {
        "id": "XSpEMxsU6IGY"
      },
      "outputs": [],
      "source": [
        "# thay tên dữ liệu check trc \n",
        "print(\"MRPS 1X OneMax\")\n",
        "print(\"-\"*20)\n",
        "print(dt_mean_mrps_OX_trap5)\n",
        "print(\"-\"*20)\n",
        "print(\"MRPS UX OneMax\")\n",
        "print(\"-\"*20)\n",
        "print(dt_mean_mrps_UX_trap5)\n",
        "print(\"-\"*20)\n",
        "print(\"std MRPS 1X OneMax\")\n",
        "print(\"-\"*20)\n",
        "print(dt_std_MRPS_OX_trap5)\n",
        "print(\"-\"*20)\n",
        "print(\"std MRPS UX OneMax\")\n",
        "print(\"-\"*20)\n",
        "print(dt_std_MRPS_UX_trap5)\n",
        "print(\"-\"*20)"
      ]
    },
    {
      "cell_type": "markdown",
      "metadata": {
        "id": "yfVwJbpfN9Wk"
      },
      "source": [
        "Thay tên các biến cần vẽ vào nhé. Chỉ cần thay thôi"
      ]
    },
    {
      "cell_type": "code",
      "execution_count": 198,
      "metadata": {
        "id": "4ZUWRGwE7G7E"
      },
      "outputs": [],
      "source": [
        "y = np.array([10, 20, 40, 80, 160])\n",
        "x1 = np.array(dt_mean_eval_OX_trap5)\n",
        "x1_err = np.array(dt_std_Eval_OX_trap5 )\n",
        "x2 = np.array(dt_mean_eval_UX_trap5)\n",
        "x2_err = np.array(dt_std_Eval_UX_trap5)"
      ]
    },
    {
      "cell_type": "code",
      "execution_count": 180,
      "metadata": {
        "id": "MO4bC97WGjPJ"
      },
      "outputs": [],
      "source": [
        "import matplotlib"
      ]
    },
    {
      "cell_type": "markdown",
      "metadata": {
        "id": "IsWYm7kEOHu3"
      },
      "source": [
        "Nhớ thay tên title này kia nhé, tên file lưu nữa\n"
      ]
    },
    {
      "cell_type": "code",
      "execution_count": 199,
      "metadata": {
        "colab": {
          "base_uri": "https://localhost:8080/",
          "height": 368
        },
        "id": "OPdvjtqp58In",
        "outputId": "d1ac6ca7-3679-41dc-9904-9eafe52b20f2"
      },
      "outputs": [
        {
          "data": {
            "image/png": "[encoded data removed]",
            "text/plain": [
              "<Figure size 720x360 with 1 Axes>"
            ]
          },
          "metadata": {
            "needs_background": "light"
          },
          "output_type": "display_data"
        }
      ],
      "source": [
        "fig = plt.figure(figsize=(10,5))\n",
        "plt.rcParams[\"font.size\"] = 18\n",
        "\n",
        "ax = plt.subplot(111)\n",
        "ax.plot(y[0:len(x1)] , x1, \"bo-\", label = '1X Evaluation')\n",
        "#ax.plot(y, x1, marker=\"o\", label = '1X MRPS')\n",
        "ax.fill_between(y[0:len(x1)], x1 + x1_err, x1 - x1_err, alpha=0.2)\n",
        "ax.plot(y[0:len(x2)] , x2, \"go-\", label = 'UX Evaluation')\n",
        "#ax.plot(y, x2, marker=\"o\", label = 'UX MRPS')\n",
        "ax.fill_between(y[0:len(x2)], x2 + x2_err, x2 - x2_err, alpha=0.2)\n",
        "\n",
        "\n",
        "\n",
        "\n",
        "#ax.set_yscale('log', basey=2)\n",
        "#ax.set_xlim(0, 170)\n",
        "#ax.set_ylim(0, 2200)\n",
        "\n",
        "ax.set_xscale('log', basex = 2)\n",
        "ax.set_xticks([10, 20, 40, 80, 160])\n",
        "ax.get_xaxis().set_major_formatter(matplotlib.ticker.ScalarFormatter())\n",
        "ax.set_yscale('log', basey=2)\n",
        "ax.minorticks_on() \n",
        "ax.tick_params(axis=\"both\", which=\"major\",direction=\"in\",length=5,width=2,top=\"on\",right=\"on\")\n",
        "ax.tick_params(axis=\"both\", which=\"minor\",direction=\"in\",length=2,width=1,top=\"on\",right=\"on\")\n",
        "\n",
        "ax.set_title(\"Errorbar\")\n",
        "ax.set_xlabel(\"Problem Size\")\n",
        "ax.set_ylabel(\"Evaluation\")\n",
        "\n",
        "ax.grid()\n",
        "plt.legend(loc = 'best')\n",
        "plt.show()\n",
        "\n",
        "\n",
        "fig.savefig(\"Trap5_Compare_Evaluation_UX_1X.pdf\",format=\"pdf\", dpi=300)\n",
        "\n"
      ]
    }
  ],
  "metadata": {
    "colab": {
      "collapsed_sections": [
        "uvjoywTwnI0U",
        "enPYFbBc9VJZ",
        "dJXQMqCwFPo4",
        "X2hTVsiUGpHb",
        "5qampLwxSBwQ",
        "jkjIwpEv_K8_",
        "6JeqYW18O4bk",
        "4Tb2v46UQr1F",
        "7Bc9kWXsP8ea"
      ],
      "name": "sGA.ipynb",
      "provenance": []
    },
    "kernelspec": {
      "display_name": "Python 3",
      "name": "python3"
    },
    "language_info": {
      "name": "python"
    }
  },
  "nbformat": 4,
  "nbformat_minor": 0
}
